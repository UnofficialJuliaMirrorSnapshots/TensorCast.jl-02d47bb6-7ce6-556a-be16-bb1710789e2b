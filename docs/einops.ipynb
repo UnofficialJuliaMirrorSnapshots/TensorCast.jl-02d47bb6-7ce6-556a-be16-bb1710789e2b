{
 "cells": [
  {
   "cell_type": "markdown",
   "metadata": {},
   "source": [
    "# einops in TensorCast.jl"
   ]
  },
  {
   "cell_type": "markdown",
   "metadata": {},
   "source": [
    "<img src=\"https://github.com/arogozhnikov/einops/blob/master/docs/resources/einops_logo_350x350.png?raw=true\" width=\"175\" heigh=\"175\" align=\"right\">\n",
    "<img src=\"https://github.com/JuliaGraphics/julia-logo-graphics/blob/master/images/julia-logo-325-by-225.png?raw=true\" width=\"162\" height=\"112\" align=\"right\">\n",
    "\n",
    "\n",
    "I wrote [a Julia package](https://github.com/mcabbott/TensorSlice.jl) to do reshaping and slicing of tensors, and then realised that this is precisely the functionality of the [`einops`](https://github.com/arogozhnikov/einops) Python package. \n",
    "\n",
    "Since they have [a very nice tutorial](https://github.com/arogozhnikov/einops/blob/master/docs/1-einops-basics.ipynb), I decided to simply borrow and adapt it.\n",
    "\n",
    "In addition to such reshaping etc, TensorCast.jl also treats arbitrary broadcasting operations (mentioned briefly at the end of this file). See also [Einsum.jl](https://github.com/ahwillia/Einsum.jl) and [TensorOperations.jl](https://github.com/Jutho/TensorOperations.jl) for other index-notation packages in Julia."
   ]
  },
  {
   "cell_type": "markdown",
   "metadata": {},
   "source": [
    "## Downloading"
   ]
  },
  {
   "cell_type": "code",
   "execution_count": 1,
   "metadata": {},
   "outputs": [
    {
     "name": "stdout",
     "output_type": "stream",
     "text": [
      "\u001b[32m\u001b[1m  Updating\u001b[22m\u001b[39m registry at `~/.julia/registries/General`\n",
      "\u001b[32m\u001b[1m  Updating\u001b[22m\u001b[39m git-repo `https://github.com/JuliaRegistries/General.git`\n",
      "\u001b[2K\u001b[?25h[1mFetching:\u001b[22m\u001b[39m [========================================>]  100.0 %.0 %\u001b[32m\u001b[1m Resolving\u001b[22m\u001b[39m package versions...\n",
      "\u001b[32m\u001b[1m Installed\u001b[22m\u001b[39m DiffRules ─ v0.0.9\n",
      "\u001b[32m\u001b[1m  Updating\u001b[22m\u001b[39m `~/.julia/environments/v1.1/Project.toml`\n",
      "\u001b[90m [no changes]\u001b[39m\n",
      "\u001b[32m\u001b[1m  Updating\u001b[22m\u001b[39m `~/.julia/environments/v1.1/Manifest.toml`\n",
      " \u001b[90m [b552c78f]\u001b[39m\u001b[93m ↑ DiffRules v0.0.8 ⇒ v0.0.9\u001b[39m\n"
     ]
    }
   ],
   "source": [
    "# These are the packages we will need:\n",
    "using Pkg\n",
    "pkg\"add TensorCast NPZ Images QuartzImageIO Colors Flux\""
   ]
  },
  {
   "cell_type": "code",
   "execution_count": 2,
   "metadata": {},
   "outputs": [
    {
     "name": "stderr",
     "output_type": "stream",
     "text": [
      "  % Total    % Received % Xferd  Average Speed   Time    Time     Time  Current\n",
      "                                 Dload  Upload   Total   Spent    Left  Speed\n",
      "100   146    0   146    0     0    412      0 --:--:-- --:--:-- --:--:--   413\n",
      "100   157  100   157    0     0    262      0 --:--:-- --:--:-- --:--:--  153k\n",
      "100 1296k  100 1296k    0     0  1113k      0  0:00:01  0:00:01 --:--:-- 1113k\n"
     ]
    },
    {
     "data": {
      "text/plain": [
       "(6, 96, 96, 3)"
      ]
     },
     "execution_count": 2,
     "metadata": {},
     "output_type": "execute_result"
    }
   ],
   "source": [
    "# First we download exactly the same data:\n",
    "\n",
    "test_name = download(\"https://github.com/arogozhnikov/einops/blob/master/docs/resources/test_images.npy?raw=true\")\n",
    "\n",
    "using NPZ # NPZ is a package for reading Numpy arrays\n",
    "npy = npzread(test_name)\n",
    "\n",
    "size(npy) # There are 6 images of shape 96x96 with 3 color channels packed into 4-tensor"
   ]
  },
  {
   "cell_type": "code",
   "execution_count": 3,
   "metadata": {},
   "outputs": [
    {
     "name": "stdout",
     "output_type": "stream",
     "text": [
      "size(six) = (6,)\n",
      "size(six[1]) = (3, 96, 96)\n"
     ]
    },
    {
     "data": {
      "text/html": [
       "<table><tbody><tr><td style='text-align:center;vertical-align:middle; margin: 0.5em;border:1px #90999f solid;border-collapse:collapse'><img style='max-width: 100px; max-height:100px;display:inline' src=\"data:image/png;base64,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\"></td><td style='text-align:center;vertical-align:middle; margin: 0.5em;border:1px #90999f solid;border-collapse:collapse'><img style='max-width: 100px; max-height:100px;display:inline' src=\"data:image/png;base64,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\"></td><td style='text-align:center;vertical-align:middle; margin: 0.5em;border:1px #90999f solid;border-collapse:collapse'><img style='max-width: 100px; max-height:100px;display:inline' src=\"data:image/png;base64,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\"></td><td style='text-align:center;vertical-align:middle; margin: 0.5em;border:1px #90999f solid;border-collapse:collapse'><img style='max-width: 100px; max-height:100px;display:inline' src=\"data:image/png;base64,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\"></td><td style='text-align:center;vertical-align:middle; margin: 0.5em;border:1px #90999f solid;border-collapse:collapse'><img style='max-width: 100px; max-height:100px;display:inline' src=\"data:image/png;base64,iVBORw0KGgoAAAANSUhEUgAAAMAAAADACAIAAADdvvtQAAAAAXNSR0IArs4c6QAACjBJREFUeAHtXX1MVWUcBr9FicQUTIVSiMyP0qKmpVObMxJl1uZaQih/6Kqtj+UWLmdbpnPaxj+af+nK+U9L3XSTpmFtLRSCTJkyBXOIKaZpfkuI0HN8l6HIx73v73DOub/n7O7x3HPv73nf9/k9Prvcj3Oim39tjuJGBcJVoFu4hayjAo4CNBB9YKUADWQlH4tpIHrASgEayEo+FtNA9ICVAjSQlXwspoHoASsFaCAr+VhMA9EDVgrQQFbysZgGogesFKCBrORjMQ1ED1gpQANZycdiGogesFKABrKSj8U0ED1gpQANZCUfi2kgesBKARrISj4W00D0gJUCNJCVfCymgegBKwVoICv5WEwD0QNWCtBAVvKxmAaiB6wUoIGs5GMxDUQPWClAA1nJx2IaiB6wUoAGspKPxTQQPWClAA1kJR+LaSB6wEoBGshKPhbTQPSAlQI0kJV8LKaB6AErBWggK/lYTAPRA1YK0EBW8rGYBqIHrBSggazkYzENRA9YKUADWcnH4h6RJ8HNf25iUVUnq4An604C/zj3h4N/Onj6/Om7++f/Po9983yDN+pvOEfqHYaGxgZg3959gTF9YoDxD8UDk4ck38Vn0p7B/sRxE4FjU8YCe3SPQEmxrrY2JlBbyvB4pxSIDuIVC6/euIrF7a/YDyw9XAr87ehvwENVh4A1dTXApqYmYFducf3jMFzW1CzgvBnzgBmTMoDdukXy/9JIXhuax81tBQKQQJeuXoIK675ZB9z18y5g2ZEy4O2m20A/bynDUzC9JTlLgHlZecCePXr6ecJhzI0JFIZoLPlfgQAkUHllOeabnpP+/6wDuDd65GjM+sv8L4FTJkwJ4AoePGUm0IN14dFOKqDrTYtOiuLG0478fgS0UxdNBS5duBS44u0VwKD/jcYEQhO5ha8AEyh87cKobG5uRtWqTauAB48dBG5duxVo3u/GTuA2JlDgWuavCTOBPOtHYXEhxp7z4RzgzoKdwCDmEBPIMwNFxsBMII/7WFRahBlkL8sGblu7zePZhD48Eyh0zVjRQgEmUAsxvNvd/sN2DL76q9XA/AX53k0k5JGZQCFLxoKWCjCBWqrh8f6y9cswg5kTZwLHp433eDadG54J1Dmd+Kw2FGACtSGMF4fNN5wWfb4Ig5d8XQLs3q27FxMJYUwmUAhi8amtFWACtdbE4yPm+09bCrdgHrmZuR7PpqPhmUAdKcTH21VAaQIVfFQAWVKTUoEJ8QnA+DjnN1/9+/Z3MMbBXj17Aa9cvwKsrq0G/nTgJ6DJhorqCuy7t5lP7LNfdd6h9vMrISaQex5Qwaz0O9F1e+rQ3sSBiWE3edte53Ord1a/Azx38VzYPO0Xbv/CeYd67rS57T/Nw0eZQB6KHwlDK30NZN+6119+HSTPj3keOH3xdODxU8ftae9j2LRjE44wge6ThXcjRwEmkFUvhycMR/3u9buBE96cALx87bIV473F3xV/hwPmLCKDBgy690Ff3ONrIF+0IbiTYAIJ9G7E0BFgWfvBWqD5JEuA9A6F+XRsT8ke3JufMV+KVpCHCSQopkYqGkis6wvnLMTtieQncBMjvUOEBDIhJEsrwkYDiciol4SvgcR6b86O+EneJ2DM/VTyU/Tig8Vis5QmYgJJK6qMjwkk3PDXpr8GxsUrFwPrG+pF2E+cPgEec2bI2JhYEU4pEiaQlJJKeWgg4cbju0S4ZbyYgZsUNc7pge3w8cO4SXFK8dBAUkoq5aGBXGn8tOem4SZLjbPumxPvy9JastFAlgJqL+dfYa44YGyqc90M2c1c5UOW056NCWSvoWoGJpAr7R+XOk6c9+xfZ8U57QmZQPYaqmZgArnSfnNlMXNljFuNt0TGuH7zugiPLAkTSFZPdWxMIBdbbj63unjlosgY5pqKIlSCJEwgQTE1UjGBXOx6XKxzDUOpBGq45VzD1W8bE8hvHQnYfJhALjYMH6ELspuzhQgSilAxgURk1EvCBHKx99duXBNk792rtyCbFBUTSEpJpTxMIBcbL/vecb++/Vyca7jUTKBwlWPdHQWYQK4YwfyCQva948EDBrsyVztSJpCdfuqrmUCuWOBYzTFx3sHxTCBxUUnotQJMIFc6UFVbJc6bPCRZnNOekK+B7DVUzcAEcqX95pz2stRpyWmyhCJsTCARGfWSMIFc6X3hz8414aU2883GoYOHShEK8jCBBMXUSMUEEu76vkP7wHjqz1OCvOmj0wXZZKmYQLJ6qmNjAgm3fOXGlcKMUVGTnp4kzilFyASSUlIpDxNIrPFFpUXgKiyW/PvLTE78VENia46KYgIJiqmRigkk0PWaMzVgeWPpGwJc91LE9Xd+WTZ5/OR7D/voHhPIR80I4lSUJtB7a95Dt5YvWg4cM3JM2J3bvd+5UtiCTxcAL1y+EDZPW4WZkzPxkDnLR1vP8fY4E8hb/QM/utIE+rboW7TO4FMjnsL+rJdmASc86Vx1cGyKc4bDhIHO9eTNqxDz+4oz58/gSFllGdBcPX7vL3uxL/sLVBDe3fKy8u7u+3OHCeTPvgRmVkoTqGV/Kk9U4q7Blse93U9NSsUE/PwOkNGHCeStTwI/OhPIpy3MX5CPmUVHR/t0fv9Niwn0nxL8NywFmEBhyeZmUcrwFNC/lfmWm4OIcTOBxKTUScQE8l3f1328DnMyV2D13eRaTYgJ1EoSHghFASZQKGq5/NycWTkYYebEmS6PI0nPBJJUUyEXE8gXTTefvm1YusEXswllEkygUNTic1spwARqJUnXHkhKTMKAOwt2Av15FsT29WACta8PH+1AASZQBwK59/DIYSNBXrTB+S3HY48+5t5ArjIzgVyVN/LJmUAe9Hj2lNkYdfNnm4EPxz7swQzkhmQCyWmpkklpAs14YQba/WP5j8DG241d0PohjwzBKGveXwPMfjW7C0bsmiGYQF2jc8SOojSBNq9wXn80NTUBN+7YCNxatBVYUV0BlNrM7z3enfcuCHMzc4FBfKenfTWYQO3rw0c7UCC6+VfJq+p1MFpYD5dXlqMuPUfyLF11e+rAmTgw8b4ZmTOLfV/yPY4fOHoAaDKp9mwt9i9dvQQ0VwHr07sP9s3ZC4clDMP+qMdHAZ8d9SzwlUmvAP15XlVMTHBjAgmKqZGKCaSx64JrZgIJiqmRigbS2HXBNdNAgmJqpKKBNHZdcM00kKCYGqloII1dF1wzDSQopkYqGkhj1wXXTAMJiqmRigbS2HXBNdNAgmJqpKKBNHZdcM00kKCYGqloII1dF1wzDSQopkYqGkhj1wXXTAMJiqmRigbS2HXBNdNAgmJqpKKBNHZdcM00kKCYGqloII1dF1wzDSQopkYqGkhj1wXXTAMJiqmRigbS2HXBNdNAgmJqpKKBNHZdcM00kKCYGqloII1dF1wzDSQopkYqGkhj1wXXTAMJiqmRKgBnKNPYluCsmQkUnF75cqY0kC/bEpxJ0UDB6ZUvZ/ov1tezD5Y2f3AAAAAASUVORK5C\"></td><td style='text-align:center;vertical-align:middle; margin: 0.5em;border:1px #90999f solid;border-collapse:collapse'><img style='max-width: 100px; max-height:100px;display:inline' src=\"data:image/png;base64,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\"></td></tr></tbody></table><div><small>(a vector displayed as a row to save space)</small></div>"
      ],
      "text/plain": [
       "6-element Array{Base.ReshapedArray{RGB{Float64},2,Base.ReinterpretArray{RGB{Float64},3,Float64,SubArray{Float64,3,PermutedDimsArray{Float64,4,(4, 2, 3, 1),(4, 2, 3, 1),Array{Float64,4}},Tuple{Base.Slice{Base.OneTo{Int64}},Base.Slice{Base.OneTo{Int64}},Base.Slice{Base.OneTo{Int64}},Int64},false}},Tuple{Base.MultiplicativeInverses.SignedMultiplicativeInverse{Int64},Base.MultiplicativeInverses.SignedMultiplicativeInverse{Int64}}},1}:\n",
       " [RGB{Float64}(1.0,0.901961,0.901961) RGB{Float64}(1.0,0.901961,0.901961) … RGB{Float64}(1.0,0.901961,0.901961) RGB{Float64}(1.0,0.901961,0.901961); RGB{Float64}(1.0,0.901961,0.901961) RGB{Float64}(1.0,0.901961,0.901961) … RGB{Float64}(1.0,0.901961,0.901961) RGB{Float64}(1.0,0.901961,0.901961); … ; RGB{Float64}(1.0,0.901961,0.901961) RGB{Float64}(1.0,0.901961,0.901961) … RGB{Float64}(1.0,0.901961,0.901961) RGB{Float64}(1.0,0.901961,0.901961); RGB{Float64}(1.0,0.901961,0.901961) RGB{Float64}(1.0,0.901961,0.901961) … RGB{Float64}(1.0,0.901961,0.901961) RGB{Float64}(1.0,0.901961,0.901961)]\n",
       " [RGB{Float64}(0.901961,1.0,0.901961) RGB{Float64}(0.901961,1.0,0.901961) … RGB{Float64}(0.901961,1.0,0.901961) RGB{Float64}(0.901961,1.0,0.901961); RGB{Float64}(0.901961,1.0,0.901961) RGB{Float64}(0.901961,1.0,0.901961) … RGB{Float64}(0.901961,1.0,0.901961) RGB{Float64}(0.901961,1.0,0.901961); … ; RGB{Float64}(0.901961,1.0,0.901961) RGB{Float64}(0.901961,1.0,0.901961) … RGB{Float64}(0.901961,1.0,0.901961) RGB{Float64}(0.901961,1.0,0.901961); RGB{Float64}(0.901961,1.0,0.901961) RGB{Float64}(0.901961,1.0,0.901961) … RGB{Float64}(0.901961,1.0,0.901961) RGB{Float64}(0.901961,1.0,0.901961)]\n",
       " [RGB{Float64}(0.901961,0.901961,1.0) RGB{Float64}(0.901961,0.901961,1.0) … RGB{Float64}(0.901961,0.901961,1.0) RGB{Float64}(0.901961,0.901961,1.0); RGB{Float64}(0.901961,0.901961,1.0) RGB{Float64}(0.901961,0.901961,1.0) … RGB{Float64}(0.901961,0.901961,1.0) RGB{Float64}(0.901961,0.901961,1.0); … ; RGB{Float64}(0.901961,0.901961,1.0) RGB{Float64}(0.901961,0.901961,1.0) … RGB{Float64}(0.901961,0.901961,1.0) RGB{Float64}(0.901961,0.901961,1.0); RGB{Float64}(0.901961,0.901961,1.0) RGB{Float64}(0.901961,0.901961,1.0) … RGB{Float64}(0.901961,0.901961,1.0) RGB{Float64}(0.901961,0.901961,1.0)]\n",
       " [RGB{Float64}(0.803922,1.0,1.0) RGB{Float64}(0.803922,1.0,1.0) … RGB{Float64}(0.803922,1.0,1.0) RGB{Float64}(0.803922,1.0,1.0); RGB{Float64}(0.803922,1.0,1.0) RGB{Float64}(0.803922,1.0,1.0) … RGB{Float64}(0.803922,1.0,1.0) RGB{Float64}(0.803922,1.0,1.0); … ; RGB{Float64}(0.803922,1.0,1.0) RGB{Float64}(0.803922,1.0,1.0) … RGB{Float64}(0.803922,1.0,1.0) RGB{Float64}(0.803922,1.0,1.0); RGB{Float64}(0.803922,1.0,1.0) RGB{Float64}(0.803922,1.0,1.0) … RGB{Float64}(0.803922,1.0,1.0) RGB{Float64}(0.803922,1.0,1.0)]                                                                                \n",
       " [RGB{Float64}(1.0,0.803922,1.0) RGB{Float64}(1.0,0.803922,1.0) … RGB{Float64}(1.0,0.803922,1.0) RGB{Float64}(1.0,0.803922,1.0); RGB{Float64}(1.0,0.803922,1.0) RGB{Float64}(1.0,0.803922,1.0) … RGB{Float64}(1.0,0.803922,1.0) RGB{Float64}(1.0,0.803922,1.0); … ; RGB{Float64}(1.0,0.803922,1.0) RGB{Float64}(1.0,0.803922,1.0) … RGB{Float64}(1.0,0.803922,1.0) RGB{Float64}(1.0,0.803922,1.0); RGB{Float64}(1.0,0.803922,1.0) RGB{Float64}(1.0,0.803922,1.0) … RGB{Float64}(1.0,0.803922,1.0) RGB{Float64}(1.0,0.803922,1.0)]                                                                                \n",
       " [RGB{Float64}(1.0,1.0,0.803922) RGB{Float64}(1.0,1.0,0.803922) … RGB{Float64}(1.0,1.0,0.803922) RGB{Float64}(1.0,1.0,0.803922); RGB{Float64}(1.0,1.0,0.803922) RGB{Float64}(1.0,1.0,0.803922) … RGB{Float64}(1.0,1.0,0.803922) RGB{Float64}(1.0,1.0,0.803922); … ; RGB{Float64}(1.0,1.0,0.803922) RGB{Float64}(1.0,1.0,0.803922) … RGB{Float64}(1.0,1.0,0.803922) RGB{Float64}(1.0,1.0,0.803922); RGB{Float64}(1.0,1.0,0.803922) RGB{Float64}(1.0,1.0,0.803922) … RGB{Float64}(1.0,1.0,0.803922) RGB{Float64}(1.0,1.0,0.803922)]                                                                                "
      ]
     },
     "execution_count": 3,
     "metadata": {},
     "output_type": "execute_result"
    }
   ],
   "source": [
    "# Here's our first use of @cast to make a vector of the six images, each as a 3 × 96 × 96 array. \n",
    "\n",
    "using TensorCast\n",
    "\n",
    "@cast six[n][c, h,w] := npy[n, h,w, c]; # (explained just below!)\n",
    "\n",
    "@show size(six)\n",
    "@show size(six[1])\n",
    "\n",
    "using Images, Colors # \"colorview\" expects the color information in the first index, not the last,\n",
    "                     # (because Julia's arrays are column-major, the opposite of Numpy).\n",
    "\n",
    "colorview.(RGB, six) # this is == [ colorview(RGB, img) for img in six ]"
   ]
  },
  {
   "cell_type": "code",
   "execution_count": 4,
   "metadata": {},
   "outputs": [],
   "source": [
    "# The notation of `@cast` here is almost literally what is true at each value of the indices,\n",
    "# with := the instruction to make a new array. Let's check all of them, no errors:\n",
    "\n",
    "@cast six[n][c, h,w] := npy[n, h,w, c];\n",
    "\n",
    "for n=1:6, c=1:3, h=1:96, w=1:77\n",
    "    six[n][c, h,w] == npy[n, h,w, c] || @error \"failure at n=$n, c=$c, h=$h, w=$w\" maxlog=5\n",
    "end"
   ]
  },
  {
   "cell_type": "markdown",
   "metadata": {},
   "source": [
    "## Reshaping with `@cast`"
   ]
  },
  {
   "cell_type": "code",
   "execution_count": 5,
   "metadata": {},
   "outputs": [
    {
     "data": {
      "image/png": "[encoded data removed]",
      "text/plain": [
       "96×96 reshape(reinterpret(RGB{Float64}, PermutedDimsArray(view(PermutedDimsArray(::Array{Float64,4}, (4, 2, 3, 1)), :, :, :, 1), (1, 3, 2))), 96, 96) with eltype RGB{Float64}:\n",
       " RGB{Float64}(1.0,0.901961,0.901961)  …  RGB{Float64}(1.0,0.901961,0.901961)\n",
       " RGB{Float64}(1.0,0.901961,0.901961)     RGB{Float64}(1.0,0.901961,0.901961)\n",
       " RGB{Float64}(1.0,0.901961,0.901961)     RGB{Float64}(1.0,0.901961,0.901961)\n",
       " RGB{Float64}(1.0,0.901961,0.901961)     RGB{Float64}(1.0,0.901961,0.901961)\n",
       " RGB{Float64}(1.0,0.901961,0.901961)     RGB{Float64}(1.0,0.901961,0.901961)\n",
       " RGB{Float64}(1.0,0.901961,0.901961)  …  RGB{Float64}(1.0,0.901961,0.901961)\n",
       " RGB{Float64}(1.0,0.901961,0.901961)     RGB{Float64}(1.0,0.901961,0.901961)\n",
       " RGB{Float64}(1.0,0.901961,0.901961)     RGB{Float64}(1.0,0.901961,0.901961)\n",
       " RGB{Float64}(1.0,0.901961,0.901961)     RGB{Float64}(1.0,0.901961,0.901961)\n",
       " RGB{Float64}(1.0,0.901961,0.901961)     RGB{Float64}(1.0,0.901961,0.901961)\n",
       " RGB{Float64}(1.0,0.901961,0.901961)  …  RGB{Float64}(1.0,0.901961,0.901961)\n",
       " RGB{Float64}(1.0,0.901961,0.901961)     RGB{Float64}(1.0,0.901961,0.901961)\n",
       " RGB{Float64}(1.0,0.901961,0.901961)     RGB{Float64}(1.0,0.901961,0.901961)\n",
       " ⋮                                    ⋱  ⋮                                  \n",
       " RGB{Float64}(1.0,0.901961,0.901961)     RGB{Float64}(1.0,0.901961,0.901961)\n",
       " RGB{Float64}(1.0,0.901961,0.901961)  …  RGB{Float64}(1.0,0.901961,0.901961)\n",
       " RGB{Float64}(1.0,0.901961,0.901961)     RGB{Float64}(1.0,0.901961,0.901961)\n",
       " RGB{Float64}(1.0,0.901961,0.901961)     RGB{Float64}(1.0,0.901961,0.901961)\n",
       " RGB{Float64}(1.0,0.901961,0.901961)     RGB{Float64}(1.0,0.901961,0.901961)\n",
       " RGB{Float64}(1.0,0.901961,0.901961)     RGB{Float64}(1.0,0.901961,0.901961)\n",
       " RGB{Float64}(1.0,0.901961,0.901961)  …  RGB{Float64}(1.0,0.901961,0.901961)\n",
       " RGB{Float64}(1.0,0.901961,0.901961)     RGB{Float64}(1.0,0.901961,0.901961)\n",
       " RGB{Float64}(1.0,0.901961,0.901961)     RGB{Float64}(1.0,0.901961,0.901961)\n",
       " RGB{Float64}(1.0,0.901961,0.901961)     RGB{Float64}(1.0,0.901961,0.901961)\n",
       " RGB{Float64}(1.0,0.901961,0.901961)     RGB{Float64}(1.0,0.901961,0.901961)\n",
       " RGB{Float64}(1.0,0.901961,0.901961)  …  RGB{Float64}(1.0,0.901961,0.901961)"
      ]
     },
     "execution_count": 5,
     "metadata": {},
     "output_type": "execute_result"
    }
   ],
   "source": [
    "# Take the first image and swop the axes, i.e. transpose it: \n",
    "\n",
    "img = six[1]; \n",
    "@cast transposed[c, w,h] := img[c, h,w]\n",
    "\n",
    "colorview(RGB, transposed)"
   ]
  },
  {
   "cell_type": "code",
   "execution_count": 6,
   "metadata": {},
   "outputs": [
    {
     "data": {
      "image/png": "[encoded data removed]",
      "text/plain": [
       "96×96 reshape(reinterpret(RGB{Float64}, view(PermutedDimsArray(view(PermutedDimsArray(::Array{Float64,4}, (4, 2, 3, 1)), :, :, :, 1), (1, 3, 2)), :, 96:-1:1, :)), 96, 96) with eltype RGB{Float64}:\n",
       " RGB{Float64}(1.0,0.901961,0.901961)  …  RGB{Float64}(1.0,0.901961,0.901961)\n",
       " RGB{Float64}(1.0,0.901961,0.901961)     RGB{Float64}(1.0,0.901961,0.901961)\n",
       " RGB{Float64}(1.0,0.901961,0.901961)     RGB{Float64}(1.0,0.901961,0.901961)\n",
       " RGB{Float64}(1.0,0.901961,0.901961)     RGB{Float64}(1.0,0.901961,0.901961)\n",
       " RGB{Float64}(1.0,0.901961,0.901961)     RGB{Float64}(1.0,0.901961,0.901961)\n",
       " RGB{Float64}(1.0,0.901961,0.901961)  …  RGB{Float64}(1.0,0.901961,0.901961)\n",
       " RGB{Float64}(1.0,0.901961,0.901961)     RGB{Float64}(1.0,0.901961,0.901961)\n",
       " RGB{Float64}(1.0,0.901961,0.901961)     RGB{Float64}(1.0,0.901961,0.901961)\n",
       " RGB{Float64}(1.0,0.901961,0.901961)     RGB{Float64}(1.0,0.901961,0.901961)\n",
       " RGB{Float64}(1.0,0.901961,0.901961)     RGB{Float64}(1.0,0.901961,0.901961)\n",
       " RGB{Float64}(1.0,0.901961,0.901961)  …  RGB{Float64}(1.0,0.901961,0.901961)\n",
       " RGB{Float64}(1.0,0.901961,0.901961)     RGB{Float64}(1.0,0.901961,0.901961)\n",
       " RGB{Float64}(1.0,0.901961,0.901961)     RGB{Float64}(1.0,0.901961,0.901961)\n",
       " ⋮                                    ⋱  ⋮                                  \n",
       " RGB{Float64}(1.0,0.901961,0.901961)     RGB{Float64}(1.0,0.901961,0.901961)\n",
       " RGB{Float64}(1.0,0.901961,0.901961)  …  RGB{Float64}(1.0,0.901961,0.901961)\n",
       " RGB{Float64}(1.0,0.901961,0.901961)     RGB{Float64}(1.0,0.901961,0.901961)\n",
       " RGB{Float64}(1.0,0.901961,0.901961)     RGB{Float64}(1.0,0.901961,0.901961)\n",
       " RGB{Float64}(1.0,0.901961,0.901961)     RGB{Float64}(1.0,0.901961,0.901961)\n",
       " RGB{Float64}(1.0,0.901961,0.901961)     RGB{Float64}(1.0,0.901961,0.901961)\n",
       " RGB{Float64}(1.0,0.901961,0.901961)  …  RGB{Float64}(1.0,0.901961,0.901961)\n",
       " RGB{Float64}(1.0,0.901961,0.901961)     RGB{Float64}(1.0,0.901961,0.901961)\n",
       " RGB{Float64}(1.0,0.901961,0.901961)     RGB{Float64}(1.0,0.901961,0.901961)\n",
       " RGB{Float64}(1.0,0.901961,0.901961)     RGB{Float64}(1.0,0.901961,0.901961)\n",
       " RGB{Float64}(1.0,0.901961,0.901961)     RGB{Float64}(1.0,0.901961,0.901961)\n",
       " RGB{Float64}(1.0,0.901961,0.901961)  …  RGB{Float64}(1.0,0.901961,0.901961)"
      ]
     },
     "execution_count": 6,
     "metadata": {},
     "output_type": "execute_result"
    }
   ],
   "source": [
    "# To rotate instead, we need to reverse one of the axes, which can be done with a minus: \n",
    "\n",
    "img = six[1]; \n",
    "@cast rotated[c, w,h] := img[c, h,-w]\n",
    "\n",
    "colorview(RGB, rotated)"
   ]
  },
  {
   "cell_type": "code",
   "execution_count": 7,
   "metadata": {},
   "outputs": [
    {
     "data": {
      "image/png": "[encoded data removed]",
      "text/plain": [
       "96×576 reshape(reinterpret(RGB{Float64}, reshape(view(::Array{Float64,4}, :, :, :, 6:-1:1), 3, 96, 576)), 96, 576) with eltype RGB{Float64}:\n",
       " RGB{Float64}(1.0,1.0,0.803922)  …  RGB{Float64}(1.0,0.901961,0.901961)\n",
       " RGB{Float64}(1.0,1.0,0.803922)     RGB{Float64}(1.0,0.901961,0.901961)\n",
       " RGB{Float64}(1.0,1.0,0.803922)     RGB{Float64}(1.0,0.901961,0.901961)\n",
       " RGB{Float64}(1.0,1.0,0.803922)     RGB{Float64}(1.0,0.901961,0.901961)\n",
       " RGB{Float64}(1.0,1.0,0.803922)     RGB{Float64}(1.0,0.901961,0.901961)\n",
       " RGB{Float64}(1.0,1.0,0.803922)  …  RGB{Float64}(1.0,0.901961,0.901961)\n",
       " RGB{Float64}(1.0,1.0,0.803922)     RGB{Float64}(1.0,0.901961,0.901961)\n",
       " RGB{Float64}(1.0,1.0,0.803922)     RGB{Float64}(1.0,0.901961,0.901961)\n",
       " RGB{Float64}(1.0,1.0,0.803922)     RGB{Float64}(1.0,0.901961,0.901961)\n",
       " RGB{Float64}(1.0,1.0,0.803922)     RGB{Float64}(1.0,0.901961,0.901961)\n",
       " RGB{Float64}(1.0,1.0,0.803922)  …  RGB{Float64}(1.0,0.901961,0.901961)\n",
       " RGB{Float64}(1.0,1.0,0.803922)     RGB{Float64}(1.0,0.901961,0.901961)\n",
       " RGB{Float64}(1.0,1.0,0.803922)     RGB{Float64}(1.0,0.901961,0.901961)\n",
       " ⋮                               ⋱  ⋮                                  \n",
       " RGB{Float64}(1.0,1.0,0.803922)     RGB{Float64}(1.0,0.901961,0.901961)\n",
       " RGB{Float64}(1.0,1.0,0.803922)  …  RGB{Float64}(1.0,0.901961,0.901961)\n",
       " RGB{Float64}(1.0,1.0,0.803922)     RGB{Float64}(1.0,0.901961,0.901961)\n",
       " RGB{Float64}(1.0,1.0,0.803922)     RGB{Float64}(1.0,0.901961,0.901961)\n",
       " RGB{Float64}(1.0,1.0,0.803922)     RGB{Float64}(1.0,0.901961,0.901961)\n",
       " RGB{Float64}(1.0,1.0,0.803922)     RGB{Float64}(1.0,0.901961,0.901961)\n",
       " RGB{Float64}(1.0,1.0,0.803922)  …  RGB{Float64}(1.0,0.901961,0.901961)\n",
       " RGB{Float64}(1.0,1.0,0.803922)     RGB{Float64}(1.0,0.901961,0.901961)\n",
       " RGB{Float64}(1.0,1.0,0.803922)     RGB{Float64}(1.0,0.901961,0.901961)\n",
       " RGB{Float64}(1.0,1.0,0.803922)     RGB{Float64}(1.0,0.901961,0.901961)\n",
       " RGB{Float64}(1.0,1.0,0.803922)     RGB{Float64}(1.0,0.901961,0.901961)\n",
       " RGB{Float64}(1.0,1.0,0.803922)  …  RGB{Float64}(1.0,0.901961,0.901961)"
      ]
     },
     "execution_count": 7,
     "metadata": {},
     "output_type": "execute_result"
    }
   ],
   "source": [
    "# To combine several images into one, we introduce a combined index, written \"(w,n)\" or \"w\\n\". \n",
    "# The more compact form also reminds you which is which: the \"macroscopic\" index goes on top. \n",
    "\n",
    "@cast row[c, h, (w,n)] := six[-n][c, h,w]\n",
    "@cast row[c, h,  w\\n ] := six[-n][c, h,w]  # identical\n",
    "\n",
    "# Note that I also put a minus in front of n, which reverses the order of the letters, but not their pixels: \n",
    "\n",
    "colorview(RGB, row)"
   ]
  },
  {
   "cell_type": "code",
   "execution_count": 8,
   "metadata": {},
   "outputs": [
    {
     "data": {
      "image/png": "[encoded data removed]",
      "text/plain": [
       "192×288 reshape(reinterpret(RGB{Float64}, reshape(view(PermutedDimsArray(::Array{Float64,5}, (1, 2, 5, 3, 4)), 3:-1:1, :, :, :, :), 3, 192, 288)), 192, 288) with eltype RGB{Float64}:\n",
       " RGB{Float64}(0.901961,0.901961,1.0)  …  RGB{Float64}(1.0,0.901961,0.901961)\n",
       " RGB{Float64}(0.901961,0.901961,1.0)     RGB{Float64}(1.0,0.901961,0.901961)\n",
       " RGB{Float64}(0.901961,0.901961,1.0)     RGB{Float64}(1.0,0.901961,0.901961)\n",
       " RGB{Float64}(0.901961,0.901961,1.0)     RGB{Float64}(1.0,0.901961,0.901961)\n",
       " RGB{Float64}(0.901961,0.901961,1.0)     RGB{Float64}(1.0,0.901961,0.901961)\n",
       " RGB{Float64}(0.901961,0.901961,1.0)  …  RGB{Float64}(1.0,0.901961,0.901961)\n",
       " RGB{Float64}(0.901961,0.901961,1.0)     RGB{Float64}(1.0,0.901961,0.901961)\n",
       " RGB{Float64}(0.901961,0.901961,1.0)     RGB{Float64}(1.0,0.901961,0.901961)\n",
       " RGB{Float64}(0.901961,0.901961,1.0)     RGB{Float64}(1.0,0.901961,0.901961)\n",
       " RGB{Float64}(0.901961,0.901961,1.0)     RGB{Float64}(1.0,0.901961,0.901961)\n",
       " RGB{Float64}(0.901961,0.901961,1.0)  …  RGB{Float64}(1.0,0.901961,0.901961)\n",
       " RGB{Float64}(0.901961,0.901961,1.0)     RGB{Float64}(1.0,0.901961,0.901961)\n",
       " RGB{Float64}(0.901961,0.901961,1.0)     RGB{Float64}(1.0,0.901961,0.901961)\n",
       " ⋮                                    ⋱                                     \n",
       " RGB{Float64}(1.0,1.0,0.803922)       …  RGB{Float64}(0.803922,1.0,1.0)     \n",
       " RGB{Float64}(1.0,1.0,0.803922)          RGB{Float64}(0.803922,1.0,1.0)     \n",
       " RGB{Float64}(1.0,1.0,0.803922)          RGB{Float64}(0.803922,1.0,1.0)     \n",
       " RGB{Float64}(1.0,1.0,0.803922)          RGB{Float64}(0.803922,1.0,1.0)     \n",
       " RGB{Float64}(1.0,1.0,0.803922)          RGB{Float64}(0.803922,1.0,1.0)     \n",
       " RGB{Float64}(1.0,1.0,0.803922)       …  RGB{Float64}(0.803922,1.0,1.0)     \n",
       " RGB{Float64}(1.0,1.0,0.803922)          RGB{Float64}(0.803922,1.0,1.0)     \n",
       " RGB{Float64}(1.0,1.0,0.803922)          RGB{Float64}(0.803922,1.0,1.0)     \n",
       " RGB{Float64}(1.0,1.0,0.803922)          RGB{Float64}(0.803922,1.0,1.0)     \n",
       " RGB{Float64}(1.0,1.0,0.803922)          RGB{Float64}(0.803922,1.0,1.0)     \n",
       " RGB{Float64}(1.0,1.0,0.803922)       …  RGB{Float64}(0.803922,1.0,1.0)     \n",
       " RGB{Float64}(1.0,1.0,0.803922)          RGB{Float64}(0.803922,1.0,1.0)     "
      ]
     },
     "execution_count": 8,
     "metadata": {},
     "output_type": "execute_result"
    }
   ],
   "source": [
    "# We can use the same combined index notation on the RHS, \n",
    "# and here we divide the batch index into two, n -> W\\H, which are the grid position on the LHS. \n",
    "\n",
    "# Since any grid could be written this way, we need also to specify that we want 2 rows of 3,\n",
    "# otherwise you'll get \"ArgumentError: unable to infer ranges for indices H, W\" \n",
    "\n",
    "# Here is the notation for that: you add a range (or a tuple of ranges) after the equation:  \n",
    "\n",
    "@cast grid[c, h\\H, w\\W] := six[W\\H][-c, h,w]  (H:2)\n",
    "\n",
    "colorview(RGB, grid)"
   ]
  },
  {
   "cell_type": "code",
   "execution_count": 9,
   "metadata": {},
   "outputs": [
    {
     "name": "stdout",
     "output_type": "stream",
     "text": [
      "size(separate) = (288, 576)\n",
      "typeof(separate) <: AbstractMatrix = true\n"
     ]
    },
    {
     "data": {
      "image/png": "[encoded data removed]",
      "text/plain": [
       "288×576 Array{Gray{Float64},2} with eltype Gray{Float64}:\n",
       " Gray{Float64}(1.0)       Gray{Float64}(1.0)       …  Gray{Float64}(1.0)     \n",
       " Gray{Float64}(1.0)       Gray{Float64}(1.0)          Gray{Float64}(1.0)     \n",
       " Gray{Float64}(1.0)       Gray{Float64}(1.0)          Gray{Float64}(1.0)     \n",
       " Gray{Float64}(1.0)       Gray{Float64}(1.0)          Gray{Float64}(1.0)     \n",
       " Gray{Float64}(1.0)       Gray{Float64}(1.0)          Gray{Float64}(1.0)     \n",
       " Gray{Float64}(1.0)       Gray{Float64}(1.0)       …  Gray{Float64}(1.0)     \n",
       " Gray{Float64}(1.0)       Gray{Float64}(1.0)          Gray{Float64}(1.0)     \n",
       " Gray{Float64}(1.0)       Gray{Float64}(1.0)          Gray{Float64}(1.0)     \n",
       " Gray{Float64}(1.0)       Gray{Float64}(1.0)          Gray{Float64}(1.0)     \n",
       " Gray{Float64}(1.0)       Gray{Float64}(1.0)          Gray{Float64}(1.0)     \n",
       " Gray{Float64}(1.0)       Gray{Float64}(1.0)       …  Gray{Float64}(1.0)     \n",
       " Gray{Float64}(1.0)       Gray{Float64}(1.0)          Gray{Float64}(1.0)     \n",
       " Gray{Float64}(1.0)       Gray{Float64}(1.0)          Gray{Float64}(1.0)     \n",
       " ⋮                                                 ⋱  ⋮                      \n",
       " Gray{Float64}(0.901961)  Gray{Float64}(0.901961)     Gray{Float64}(0.803922)\n",
       " Gray{Float64}(0.901961)  Gray{Float64}(0.901961)     Gray{Float64}(0.803922)\n",
       " Gray{Float64}(0.901961)  Gray{Float64}(0.901961)     Gray{Float64}(0.803922)\n",
       " Gray{Float64}(0.901961)  Gray{Float64}(0.901961)     Gray{Float64}(0.803922)\n",
       " Gray{Float64}(0.901961)  Gray{Float64}(0.901961)  …  Gray{Float64}(0.803922)\n",
       " Gray{Float64}(0.901961)  Gray{Float64}(0.901961)     Gray{Float64}(0.803922)\n",
       " Gray{Float64}(0.901961)  Gray{Float64}(0.901961)     Gray{Float64}(0.803922)\n",
       " Gray{Float64}(0.901961)  Gray{Float64}(0.901961)     Gray{Float64}(0.803922)\n",
       " Gray{Float64}(0.901961)  Gray{Float64}(0.901961)     Gray{Float64}(0.803922)\n",
       " Gray{Float64}(0.901961)  Gray{Float64}(0.901961)  …  Gray{Float64}(0.803922)\n",
       " Gray{Float64}(0.901961)  Gray{Float64}(0.901961)     Gray{Float64}(0.803922)\n",
       " Gray{Float64}(0.901961)  Gray{Float64}(0.901961)     Gray{Float64}(0.803922)"
      ]
     },
     "execution_count": 9,
     "metadata": {},
     "output_type": "execute_result"
    }
   ],
   "source": [
    "# Another example: combine the color and the height indices into the grid's height,\n",
    "# and reverse the width pixel positions w (but not the horizontal grid position, W):\n",
    "\n",
    "@cast separate[h\\c, w\\W] := six[W][c, h,-w] \n",
    "\n",
    "@show size(separate) typeof(separate) <: AbstractMatrix # actual type reflexts lazy reshape\n",
    "\n",
    "Gray.(separate) # Gray is a number type, this converts Float64 to it. "
   ]
  },
  {
   "cell_type": "markdown",
   "metadata": {},
   "source": [
    "## Reducing with `@reduce`"
   ]
  },
  {
   "cell_type": "code",
   "execution_count": 10,
   "metadata": {},
   "outputs": [
    {
     "data": {
      "text/html": [
       "<table><tbody><tr><td style='text-align:center;vertical-align:middle; margin: 0.5em;border:1px #90999f solid;border-collapse:collapse'><img style='max-width: 100px; max-height:100px;display:inline' src=\"data:image/png;base64,iVBORw0KGgoAAAANSUhEUgAAAMAAAADACAIAAADdvvtQAAAAAXNSR0IArs4c6QAAFbVJREFUeAHtXetzG9d1NwGQeAMEHwDEl0SJoiQrcu1YkV07mSaeODOdtl86mX5op9PMZNrJt/wp/dbp39GZduK0duypG9WRJcuWbJmyI/FNECRBPIgnXzkPkdz1AtDugiDurs7lzOHdu3fv3v3di9/cxznn9uVyuZckCAJ2EfDYfVCeEwQQAelA0g86QkA6UEfwycO+FweCRqMBH1vYLoCslCsgdxu7IA8PD0F6vV6QgWAAZCQaARmNR0H29fWBlNAKAWGgVshIuikE+tw9C2N22chsABj57bwpSI4y+fqRntNjaZChcOgoWf7rEBAG0sEhF1YRcC0DMfcszy8DItVq1Sou38nPPBQbjH0nXS6FgaQPdISAa2dhmdUMANM59zC662vrEBkY6AcZCAU5USQgIAwk3aAjBFzIQLVaDSApFUodAaN/mEdU2XWczU1NT+lvvtBXwkAvdPN3/vEuZCBea+4cGmMJtSpyW71WB+kP+I0ZXsAUYaAXsNFP85NdyEC8z3WaIOnL4vKFgRgVYSB975Ariwi4kIH2dvcsgmAtO+/hW3vGvbmFgdzbtmfyZa5ioMMD1OzhNZvuobd/sN+9wh1XsjCQ45pMrQq7ioH6PKg92Ad/wEPw153g9aDuogRGQBhIekJHCLiKgRgJ1iTc3UV9524ELr8bJTuxTGEgJ7aaQnV2IQOx/nIhj9YX3QihiOhHn+AqDHSChcRsIOBCBoon4gBENxgoQDvwgQDajklgBISBpCd0hIALGYitS6MxtCstFU9HL5HXlkbTyY7AduPDwkBubNUz/CYXMhCjlx5Hi1JeDWJNwk5QTY2l4PGg2GMYQBQGMkAiCVYQcK1lKoPwzJoik4VLq7rSPh/SMzOZ2Ma36lTCQK2QkXRTCLicgbQYNOoG/0C0X8Ysxf6BWNM5EkP/QLE4WsKLfyAthsa4MJARE0mxgMALxEAWUJGsphEQBjINlWRshoB0oGaoSJppBKQDmYZKMjZDQDpQM1QkzTQC0oFMQyUZmyEgHagZKpJmGgHpQKahkozNEJAO1AwVSTONgHQg01BJxmYIuFAfiPe2KtUyfG+ZZLWGfqKrVTwfo1pDubGB3g6fPHkKcmV5BWQ2izv2W1t4elqptAOyRk8d0Eka/b4BSAkG0D/r0NAQyGQSNYTGxiZAXp6ZPZZDiQTE2Z/rwADC6/fjsz6fO+1ZhYGgcSXYR0A5BtrbQ+8+Tx4/afNNB+QfI1/Esy+2C8gZ+cI2yEIJbcF2yqgHvb9/4kOjkC9CytyjxyC/fjQHcn0d+ebg4ACkvcC+Wln/mkvoH0CmuTxzFeQbt94C+f1Xb4IMh9COrJ9O3giRTmMkgkwWIfsyr9fZv2Fn1x6aQUJvEVBuN97IQKzX/GTxW0Aqu4ke45l1tByjBfGZFuL6JiTevXMP5OO5b0DW6+hd9bSCkYGMJccHcbT0kx+/C/Kdv/gpyEg4fJyNNY2YhxIJ1D1iZjrO4IiIMJAjmkndSjqAgbZpfPPh7//nuSiWSjjzuvsHZJ0v7n8Bskpe65/7oI0MZhhIW2wydQ4u/+7n/wDy1VdeA+kxnIU4NjYK6YODaNHmlCAM5JSWUrSeys3C7OG0tIBrOR++/xHI1bU1e4V09ansOtbq3/79X0G+++5fgfzbv/k5SJ6dQQQCrx5x3ClSGMgpLaVoPR3MQOwF8euHuLrzu/c/BFnawRVklcMBrU6995v/gEpubuJq+C//6V9ABvx48kYggCtJzgrCQM5qL+Vq62AGevQA15Tf/+8PQFY6PhX17Fvm7qe34aW8R/bPv/gVxD0e5/2enVfjs29peWMbBBzJQIvzS/BJzuUebXvcuYM8NDGBu/rXr/8apLNsYYWBtK0pccsIOIyByjTP+s1//hY+1InjHmP78Lzs3t3fw63bd26BfIt28o051UwRBlKzXRxTK8cw0CHp7nz8u48B2u08agK5KTQaeBrrBx+8B/LS9CWQqVHUeFQ/CAOp30ZK19AxDLSyuAhAPvwK137cF1hvOpdDHab3fvtfIP/x738BUv0ZmTAQNJME+wg4gIEatMr82b378JWsr2j/c9V7kjnGH+iHqpVKqLu9urYM8uu5r0Beu3odpMpBGEjl1nFA3ZRjIPaNOvvy7DF4+QJaUAyODoOc7bNjXcXa03+c++NxmTeuvQrxaJh8IUbxbI3v3cDf+uXZGZCpNM6AohG8y3v+hSJafSwtL4C8//ldkLVdtC8rlVEHsk7eF2u1BqbX6iArFZxV7e2dWIbAZdPA+kCsncjWJpUKlnz7k/8DefXKyyBVHgkJAzVtVkk0i4ByDKSteJ1GP4sLOP+q0a9ce7eT+OS5KXj85s3vg3zn3R+D1Fp4weV3QoTYaHxsEtJv3USbr/oh8sS9zz4B+ejRlyC3cshSyFlHoVpFTmJNbZbMUkf38b9RB6hcQa2mDdIWWlhA+7gLF3BlSM0gDKRmuzimVkoz0OryMgBZrdN4YhctVjsPrHPz1g/fhKJ++rN3bBTIJVyZvgbPxqNozxWNoXz4Bc4Tl1fXQB4eos1rMIgahiyTSbSZbzTwK444CTmMzyCDyHGok00+Xz54+DlEhIGOwZGI2xBQlIF4j3ppAWc9HA4OTsYWR2l2/l+ZxfndK6++Yudh3TN4Ov34+HmQOzRqYe8fPONbzWR0eY8u2F/H8DDO+1ge3Tn532jgPI7D0wX0H1KhuV5IY9V6dL/3/2UM1Ps2cHQNFGWgUgH9bGitLPo8+IvvJAyTX5+LxECNxumcKt/fjyvIgzEc38zO4ppNYTsHslhCDyE7xBwQsRSYw/b3cbTE4781Wpu+NHPFUjlnk1kY6Gxwdu1bFGWgzOoqQK4d9Xg7sFjgldzZq+i5x+PFteytLWS4ZHIEZOf2oOEwWrMPRgZBpsbGQebI05k9BoLHIfBIKOjFBpqnkZAwEAEjwl0IKMpA7MNQCzVrzPAekzbdTDxGqzVDo+j7gsP+Pq7TPH2KPDc+ngTZiW+eYBA9jjHPnZ+8CPHVRZw/elZxhGDPD1qDzjKjgl9ay2A9eWbKDAqXigQZAynSEE6thnIM1CA/YmXD/CUY9APG27zdZBHt9Lk0PGG0+9yn3fLFBVw7jkbRk+HIKM6n+F0QMRn8/sBxzlgYV6UjMVzpCVB6hbzDHmcwGWG+4cw7Zdwdq1Rw5z9CbGqykDPIJgx0BiC7+RXKMRBbfu2Sr1Yt8MwQPM5gL4jau+3jI0kc5WzTzKtVzlIJd6ZYBojtEuQpLBYPQzqfqNrqWa6VNk+K/JH5fA9aPfLc9APaTeNs9Qbu6hcLeZDCQM+FTjI4CQH1GIjWcI0QsheLWAz5oFCw5gdoKYO+XReenOysTY3jjljAj7On9oEdGYbDmDMaxbdzHUq7qCMQDJ6MfubnUXeH12+yW1sQ5/VoiNgI2rkb8zGPgWwU1dVHZAzUVXjdX7hyDMQawa2AT6aG4NbODo5XeC2nVU5O51WT/gHcsbIX6KgMeCOetsEyk0HrLc8AzgrTaVxbYk7SjoHCIR45Iby8qwURS4EtcfkR3h2rkq60pULOILMw0BmA7OZXKMdA1ba+xgboxAleO15cIp0b7YaZoaX4/ApDckcJzEll4qSV1Q0oa20NOalQwLiPEA2GkJ98dHrGftWOLqV2FgZFQSjTahDH1ZHCQOq0hSNrohwD7dEeUHsseU1olFaNN7LtFqe145L2ZXZyl88UK5V4nITWpV46HSyXw7i/H3+lPp/F36qBWXl3rJN6duNZi1/VjSpImU5GQDkG4hmHGUiTxEA+0u/JZHDdxbhCbdz/MlOyvTy8Hs3P8i5bbpv0EmkFeXAQ98jYNsPeGWF7e6ejRWnv61o9JQzUChlJN4WAegxk8RTBoSH8ZbNWIc+J9jQWZH0d6DGawq9tJh/pE7I9SS6HOpDFIq6hp2g1y+qpPOa5uW2lTvmmMNApA/qiFaccAxlP0TLTJKxPeHkGbdezNC/jX7x2PddMOaebR7ufxSWzv46VFVwxKpdxN43PCDMcHdakIqrpInIVhYGaNJUkmUdAOQbqZOXGQ7Zj6TTul/HYqFrHVeCznItpoW/vTy2fxznaLo3YJifRI1H72RnPN7XlqxAXBlKhFRxcB/UYiDeTOoaUrdCjcZyjjY5PgCyyzegzXaJO7VzNVHDfxMpNuYzr18vL6IXt/HnU3W4V2Aq21d1epQsD9Qp5l7xXOQbyB050/DrHeJc8XfDYYniIfGKQnJ2dgsIbdfRhyGszlcqJT4zO38vzr7rpM6NZw2lzE7WeR0bQwtUYgqRjZEzvbYowUG/xd/zblWMgtvI8LVzZukprY8Uls29U9sPKfnp4NsS+w4pF1HisVHB0wto/VuvDujvGdaD25fAKVoQs1HDspg+s5ahP6/2VMFDv28DRNVCOgcLkD/V0Mb0wjh4zgp6B42JfJi9BbDl6nPidyAHZz5dI/7pURKtQjh+Sr7TJaVz1DoZO7DoSEbRt3dlBHaDl5UWQ169cAWk1sIY1P5tOjx0/HomiDxDVgjCQai3isPoox0CxOM6VTjcU8+20Flu9y+PFX1c8jv7qWfKYplBANmrvVWgji/b29gKPw4x777FY89mZvbec1lPCQKeF5AtajnIMFCCXOAFaDaqZXkdp33rZdbRMjQ+iDZfVmZG2ZN5TSyRwLJIew1Xjwz78BbJVBufkkVM2SxYjnGRRai3R+FGPB72qhelkD4uFdT27MFDXIXb3C5RjIIZ7eAS9F66Qp/rOGyC7gXZb/T5c4w6c0npug87uGElhPfm8i9XVJYivkWzsoj+NToL2VI1EYhiK6q12ZatvEQZqhYykm0JAUQZKpXGEoWUgNpOyt4fO1ulzc19DmX/22uumgHleJq0NP/tvjJPnkG+/xbd0HnY19nEjo+jfSM0gDKRmuzimVkozkFY7sUq75SsrqDfD9gyDg7hCw7taZvDOk4PFr778EjL/5U/+2swjbfLUqjW42yDfYQNkA7+2PA8pRVqJbvOgyVtHvkeQc5PJcyafOvtswkBnj7mr3qgoA3lJL3GM9rA2c2jDUCfvrXzGRTabg5TsBsow7UbFyZNhNIqc1MoKnT11PPnmG8jz8CvkoZevXQcZYmfMELMeNjJYN48HvU4/fPTAUgFsR1smrz8FOq95oB9360aHcc7FIUInkcXI5+tRmlr/hYHUag/H1UZRBmIcpy9dgsgXD+6D1K6LPEOZJmasU8yyrw8t5EMhXO/hPe0I7ZCzfrQ/gD57+Hf//7f/F+KFPGoAXpxBf4kjdJZPOIQ76masONiLyP07f4D88yvzINez+PZWgfe2mG/4rGc+i0i75xWlE8HKO7jXtrmO3PbSATZQH/ypGoSBVG0Zh9RLaQbinfl0GucgTRjIAPGzUQXZOTAncZb+AfzMARpXbW0h66zQiYJbtEv/4MvPIWVsHPV7RpNon5UaQRknvQA/zbB4h6uyg5btmQzutM/PPwW5Rrts/K513oGn8ZC33wt39/ZR57pOq9J8njzzDVvv80pPnc6Z5zkdv+XiFOprx7+HO26J+Ml4CC4VDMJACjaKk6qkNAMxkNeu41yJdZbtQbtLZyWzZJ89i4vIIl7yngH6gxC/9xnOyzoJa3SuYInmU/bK0XoYujAzA4UEyZM1W7j6Tslizl7dWj0lDNQKGUk3hYADGMhP6zQXLuKM7Ju5OVOf1TpThNaKWt/v5R0eww3QTPDq7NXjqvDOvzDQMSAScQ8CDmCgeg11a/jE0w2a9eRp/cZeI8TIWt7es91+ij0ATc8g1w7F0ccIB2agUBjXqFQLMgZSrUUcVh8HMFCNdP94dfj1W7cA4I8/+ggk745ZxZvXowe8+GvmX7bVErqXPzWBXkSukc2a1meZvS/tXj21JQsDadGQuGUEnMBANAbiLwvRbtEP3ngDLj+5fRukVnPP/NcPj+IK79oyrgapEIZJA/ManWwfi+AatDaoxpTaugkDadGQuGUEHMBAPAvTflmCNGZuvYk89OknuB/Op4pq87SP84wmRt7ji3m0Zu9VSNBp9lMXLkAFXrtxA6TxW4SBetU68t6uI6A0A7GNZr3R/IyIoZFRgOfNt98G+dmnn4K0ekZpMo3WDs+0m2muB5dnFoZSuOc/cR733n9Eozr2w8p61tpq8B4+S62euDZPr+IyBuoV8i55r9IMxHbsbPfZCu/YIPqs+PMf/RDkowcPQa6sroA8smqAaMvAv+aJKVx9WZpfAmlvTtfyBYYbvNacJF3vySnUQHr75g9A+v3+47ysRbRvODOER0Jaj0THj/QwIgzUQ/Dd8GqlGYi9q168iP7Fpp+i3KYzAIvkL0zrZ2PAj3rQr7z+Osj0OdRg/PbxY8xfwDNyeJcbIk0Dn+k8NY1jkZUlZC8eFTXNbDsxTPYV5yaR7a5cngF57TLqYnvJ84axWO3Mi/WEtN9rzN+rFGGgXiHvkvcqzUBajENBHCWExnHmlT6HPjGK5HM+T7JCetD8S03RCCNB/j2yq6uQc2lxEWS+iOs9rN0XDoYhztrKwFAQ99F50MxDuU20OGPZye8+QJo952iMdf48jniuXELuGYziuE0beP7FXmNj5AuRbdx4xXwwgfn5HFbtUyrEhYFUaAUH18ExDKTF2Eun8rCnMJYNOvOGx0Y7JfTyzGw0MT0NceakItnGZ4iTbsyinnWVLCKyuSzEi2Xkpzp5tufffZx+9/kc+lfk1er2czTWsE6S57KxCfSuOjGJ47YxsmyPR9H3I4942BY2TJqWbIkWoxESa0tGYmhfyyM5rglcKhuEgZRtGmdUzAEMFCDLhFniDPOg8tiFOYZtyuq01vzsfK4RHJHUyshVpQJyT5FGSLkcjn42tzcxvVwCWSbfPHsHexBnfuJRFFvvh0k7YGgI9/ZTKRyf8egqEUtAPE427UHy9xgiG34e3zzTSSKLswDZ0aqp7wyf8NwgDPRciCRDOwQcwEDtqt/6Hmswsu8Oltq8s+cvwiWfqqxNl7hVBISBrCIm+XUISAfSwSEXVhGQDmQVMcmvQ0A6kA4OubCKgHQgq4hJfh0C0oF0cMiFVQSkA1lFTPLrEJAOpINDLqwiIB3IKmKSX4eAdCAdHHJhFQHpQFYRk/w6BKQD6eCQC6sISAeyipjk1yEgHUgHh1xYRUA6kFXEJL8OAelAOjjkwioC0oGsIib5dQhIB9LBIRdWEZAOZBUxya9DQDqQDg65sIqAdCCriEl+HQLSgXRwyIVVBKQDWUVM8usQkA6kg0MurCIgHcgqYpJfh4B0IB0ccmEVAelAVhGT/DoEpAPp4JALqwhIB7KKmOTXISAdSAeHXFhFQDqQVcQkvw4B6UA6OOTCKgLSgawiJvl1CPSxV0BdmlwIAqYREAYyDZVkbIaAdKBmqEiaaQSkA5mGSjI2Q+BP3+cga4PUupgAAAAASUVORK5C\"></td><td style='text-align:center;vertical-align:middle; margin: 0.5em;border:1px #90999f solid;border-collapse:collapse'><img style='max-width: 100px; max-height:100px;display:inline' src=\"data:image/png;base64,iVBORw0KGgoAAAANSUhEUgAAAMAAAADACAIAAADdvvtQAAAAAXNSR0IArs4c6QAAFhxJREFUeAHtXelzW8eRJ24QBwHelySSkhhZZ+ysN1p7U9lsUqkkqw9JKl/2z9vaT+va/bKfVo6r4qrIXsf2em1ZliU7okWKpMQbBEDcV/rXTYqgKVA4HsR5eD0stx4e3jRmeub93NPT3eMaGRnp06ISaFcC7nYraj2VACSgE0jnQUcS0AnUkfi0stc5Igi6gtTZmdkZohNTE0TDkTBRrxdCyOfzRHe2doiuPlklupZYI1qjPy2NJaAI1Fg2+k0TEnD19irMVXOREC7PXyY6f3meqMuFO82UzF6GHvvkg0+IJovJZqo48BlFIAcOupVd7lkEEux5+x/eJmmNjo+2LbNaDTrQx3c+Jrq2C61IS70EFIHqpaHXLUugZxHo9SuvkzBmL862LJIXVahWq3T7/XffJ5oupV/0iEPvKQI5dOCt6nYP2oHCHlh3rMIeEbTbjTft9TeBanc+uiM3lZIEFIF0GnQkgR5EoLkLcx2JpHHl4dFh+jLkDhHNVrONH3TQN4pADhrsbnS1BxFofGq8G5J6znN0DFalpbWl53ecfKEI5OTRt6DvPYhAssdugWwasOg2/wY/a+htRSBDB8YuzeopBHLX8D6IzaZ7A+D3+7vH3HacFYFsN2RmNbinEKjqwo6V7Ft1D4dKpZJZY3iqrVEEOlXx2//HewqBZDiyGdiII9FIl0ZHPBW7xNx2bBWBbDdkZjW4BxFo/ek6yThyqVsItLmxadYYnmprFIFOVfz2//EeRKDHC49pXC5cumD56EjUWKaCaA0tIgFFIJ0JHUmgBxFor7xHIllawG75zIWZjsRzUFlsS198+sXBDf13XwKKQDoVOpJADyKQyOOLr4AW4Sj8o0fG2s+BJHFhn374KfFJlVLCXOlzCSgCPReFXrQjgZ6NCxNhSHzq1UtX6aOsy5qPjReL9scfICY1WdDY+BdPL0WgF8tF7zYpgR5HoHopSH6g2blZujkxifxAoSjiK7weKIKSHyixnaDrlScrRNe2OT+QC7HxWhpJQBGokWT0flMScBACNSUPfahFCSgCtSgwffyoBHQCHZWHfmpRAjqBWhSYPn5UAjqBjspDP7UoAZ1ALQpMHz8qAZ1AR+Whn1qUgE6gFgWmjx+VgE6go/LQTy1KQCdQiwLTx49KoAf9gWoe7F75oqCRCHa7opEoaHSA6EAkRtTvDRAtFhFjWuYMrB6vj64DAcS9+3ygcoZGn4su+6oVxLyWK2WihXyBaC6HszWKBdyplvEeVoug+Qzup9Pwm85kQPN5ZHV1uVCr94oiUO+N6SvtkXEI5KsBCW799tYJYqjVgAelviJRDx7vCwaBKJEIYsEiYeCNx+0hKiWZAAY8vP+Q6Nf/94Dok+VloqUy8KO98pvf/4YqTs5iV1+K+E1nOC62UoYP5ECQ0Y53+wWT1ta26P7qKiLXkskNoi6XvSPtFYFoELW0LwHjEOh4V6q1Cm76gRYDMegxg7FBovUYQx+fF/Fi3lzDyV9ffPY50S/v3SOaSHbXq1DygUTrYvJLJehDW1loPwMhoNH8PKJEhFZYr1pehtfRt99+RzSfBz7hjDL7FEUg+4yVkS21AQJVatAS5mdfHmmaTufoyW/ufk30w798RHRze5voaRWfDwpaPAZaKCBnSKaARV3cD13N48HbOzs79ZzeufMZXScST4japSgC2WWkDG2nDRDoZMmJvrC2skmPffzBh0Q/+/JLoqIJnVz3VX4bCGCd6PejvdvpBNFBv2hybGjipuztIabWXkURyF7jZVxrbYxAgj2L3yyRUN977z2iT1ZXjRPw0QZJVFp8IEy3U3vAoYg3TtTHpwEVi2KzPlrH7E+KQGaPj/GtszECLXwN28n/3L5NdH0TOpC9SpRPrc9mofdkMrCb29EqrQhkr1lnXGttiUCrj1dIkLfffZeoHbGnfhb092PnfzcPC1aNz7R38TnR9c+YfK0IZPLo2KBtNkOgXBrrlNu3seZa28Butt2LrMtiMViJbrz5GtF7n8JfwC5FEcguI2VoO22DQLUq9uQ/uoMdrsdPnhgqznabFQ4Bgd6+eZPoo4UForkdeDuZXxSBzB8jo1toGwRKrMPK/OEn2K/uvSJrsXIFa7Fbv4Kv43/9x3+jm8a7BikCYZi0tC0BGyBQrQRt4OFfF4kWCvbQDFodj3A/dCA2A/VNTsJD6Ox5nA29vGC6hV0RqNWx1uePSMAGGcp+9KMfUJOnL14kym7ERzrQzAeJ5Hrn3955/vCv/ulf6HpoELETAX+QqPji1NxY6wXYOuz18/6UmyNAyvAnrNbg3eyHg2GfN4hakUH49JTLeCZfgOdkqcwe3BxO1kxGWInlmDsHvJFSKcFDKJ3GL77z7/9JtCrBafK1YVQRyLABsVtzjNaBBr1o3txF2GezZWg/Lvab6VzIVy5dJyapXWSerwYQOxHnGNZGnCVWVb4VX8eFxa/o498NwJunn604w4PwdN5XZHg/K81RqskU1laCTMdPchW9BxUPSqUKnBsbHSc6eRYIt7q8e/Clcf8qAhk3JPZqkNEINHfpEkkzEob/XibJCNSxdCVSYn3tKXEKjWDt46G/VopoNov3EF3aH4BP0mt8NpmXY2FdPryT8kw00k/XQumCSi4HdNlNQr/JFxHp5vd9/9frMenqD9+gZ1aX3ydqZlEEMnNcbNMqQxHIzzrE/NWrlgvyFz/9KfF0R3kp1TH3u/9/l3hMTEwT9XuAJZ4+iNTjf7Fg+9neI5Qee2Hxeg8xaXb2PD0TDfyJaJpjyl5Y5RRvKgKdovB74adf/KKces/Gh4aoDYNxrHFyJfgAdV4uz88Tk+s//jHR9RVrotCLbBjfXIM+1OfDumk2BNtSrghdx+eHt2GrxcW6VKUCq1IwAGvT1OwZot98g91A04oikGkjYrP2GIpAU+fx/353/YKkA8GK5eYme9t42LY0PAyE200gcp5Vlw649/U9fbpM9ScmsIe1mwJeRjjyqxOmpTIwLMjpj87MQRqKQJ3IU+saKgHjEEgixc/MzHxPYG73YQz597566cdaFW41Y3U8Jf/h6DDyi21swrfa68N+VntlZwe5iMj6Q//tcjagoTiyARWq0GPas55XqrASSRljbJOVadEiVD7g3em/qgN1KkGH1zcOgSL8hsUGkImsvgTZspIvyl53/Tcvvw5ynp7j+1A+3lifnoYVJ5FIEs3moMF4va05AmYyQBopbs7YKjlcq2xs8vnbeks5D6TwDAVh0Y6FYTffzPLCT74wgLbVNwParU0wRALGIVCMbT9BzqZTL6PBOHbEnm1g/7zVMhCFPenkMjgIrUVoZg97VakU/5Yb6HKyE0CtBu2nUMCufoAtN4k06g4MRom2V2p17tA+H4YpPoad+c1Ftjm1x7QLtRSBuiBUJ7E0DoEijEDHh8AvjoASN97iSqTEWaQf1WXwOD8Ivcfrh25xvMQCQLvYMLwExYYkOo1Yh8W8/LNf/4K+dXsP14Zxxpv+UIjuZ9h67g8c7mrRzbaLnCsd5ZUdWdHb5tONiopA3ZCqg3iah0DH1l/1ozE+itXZ2iY0jGY8jgU//Oy/3JeEZ2CrRX4lFBKsAhWeXh9aUiyDp9sNm025Lu+914NdsFqFfZjaNHUfrgQ9zCEcbV+josZ0qSgCdUmwTmFrMwQKBvFmR9kisteERUTQwtrBFEyKxeAB7QtgfSeRFak94GI+D4u2j61WlQrWZd42EYiqHilB9sw8csuAD4pABgyCnZtgHAL5m/ChGR6CNpAvYAeqXDnUFU5rIA5OycDaLRQCLXN02JPVJ3Q9NTlM1N/AR5G+arJ42Z7e5MOv7DFFoFcm6t78IeMQqPn3bHpyiMZkbR0xU4VSgz2yFi1GnQxyfWpD8WuWiNKnG2ihOBNMjUFn8rJludXfEk+mVmt1+3lFoG5LuMf5G4dAYvNoXuoT43inEwlkW97dw6qn3o/RdapR5aKdSRsEn1bWgEahILbpx0ax+9Z8cdedwdh8rW4/qQjUbQn3OH/jEEhsKq1KfZDj0geisBQ/Za2InRBpR/tU12j1ahF3SWxIOT7reWkZkSHnpqHJNeO1WOEzo5mNQUQRyKDBsGNTjEOgcunQu69VgXo4pvPsNOwuEoX+TNBI4KhVdp0/f/IakL9dXEFkyNkp4FB9TOrxH6/U7bUd//a07igCnZbke+R3jUOgkgR7dixeiT8/x292LYD3JOWD7062wBajV6IaHfoKNe6OWLFXnsKqPnsWUa37GYaOVSlaJJljjDu6oQjUkfi0snEIlLH03FCPl98QPh/5zPih3aXAdqNyEfqW14sd/oOMGc2gxsunTaWKPfnjcSCNasoqTNaPUxPwfT5espZK5jj/9u4oArUnN621LwHjECgtsRAWDdBBpovDKE9h7GV9yO8RvAEOSQZqUTM8HJHe34/MGM34PR5v7F4WvkGt1i1xttcMZ1b0CXbWsc5lYG03rSgCmTYiNmuPcQi0m0hYLsJiEngQHzzMxbywtkh3PG4OHW3wezscLF+tQkRBjg2Nx+EHLZrN9vozXDOSCQPxlgxwCFk1iwjXmdFJ+aolKqstXw2rxRLnVJTq6V3so5lWFIFMGxGbtccRCFTjLBmtjoxrfwEH/alUBqJsbIAKJiV2cD08Dkw6Xlyu9nN9SARcuQzNrD4idmcTNmvTiiKQaSNis/YYh0A5tqCk2eYRjXDu945FKrmbZZ+/edvM8Z+tx6RHD+/TA/ceIPb0rbfeICo6EAEUXYfCiE9tt2BtmMsB+cQNWiLO0hlGtZP319r9ybbrKQK1LTqtCAkYh0CySbW8tESNu2JRnugAx8ZnEvC/iQ6Pod8dl9ggtJ/1xW+J/vGPWOX94Q+/JprLYK0UjiE2o5NSrfMgkByMFcOwR3qnCNTJKGtd8xBIxuTxo0d0cQSB2srLIdzcHBu6vvkdfbQKgcYnkRX6W0agWg0rspWlFaJXrp8nakU53JVbWkLLzSyKQGaOi21aZZwOJJJbfQY7b6nOOzGVRh6M7d0MUTnhRs7n2l/7SLUTqWhCS4sP6alaH/a5OinDo8NUPUB/lKOjDzmdPe7DDGWdcJa6so8msf2POcK1c57d4KAI1A2pOoinoQhU5hXHwwcPaCjOvzZLNJtHrh2x4kg8/PqW2IVhHennSKuhOOxGjaLQ3R501sX5lz0++ADlS6jr7SAD9Y3XbxCHbAaZpqdnZ4i2UrDilGyKqRyQVU4cmx6BdiUlsYWV495ug7jbg8dO8V9FoFMUfi/8tKEIJKK9+/nndHH+0izRIp/vRwgiXz2ngkkFzh/9bAO5nsXiHAyga/EBWITF29DHmV+LObzNoSgQKFLBM8UarMkpzqsqOQ2bMrjwAdLzF85Q3Uptlmio/6S9/TJHde3uATUzBehzYvHa9xninyzw/leaM1bvrAN7cmXoVXRss7FFEcjYobFHw4xGoFQe79/CAqy9kVF48zRzYoZgUpH1m41tePFVq7AU5zLI/ry68Fei16/D7zjKOOSpYd87HAL6uNkXMcteOKJpVRnbKrwerHHWHx9blWJD4BAIAOFcrEUtPPgKHDgzq4dPnu/j81M9nItDcLHEXtiZPWg8mTTozvYO0a0N4E2ez4r/19/9jq69vBEfiB76cdNNA4sikIGDYqcmGY1AIsi79z+gi3/82e/blqtgUjiKNdr9rxeJnj37BtFCQXQeuqQi2hX2wMmmwxTE5YaIvJI5H0af/ZLMAreS2eTBjb7P7sPCtLgIG3p7RdopWFXlEzb6vYj299bQhrJL2tYe727VUgTqlmQdwtcGCJTvgx7gpj8ryhk+f9QKTtbzEOxJsi9UeIy1HwadSBDYuVtQn2jrZa4cT1kCNkAgrwe+NTMz54kufIcVWXs5BkXSF35wQS4MpH7WtKoxeBqFPNity/O6LxpDVtpdzrVoWrOt+f+Cab3S9rwyCdgAgSL9eCMlQ+D05Fm6frqxQtTTVs7AoZEhqpvZMsu4K/bom7/8JbUt0o+V18GqEFcDjEl92HAzrigCGTck9mqQDRAoXnd+TyiM9choDHl0tpKIkxLbSatCjw8D1Uo5U3Do+ltvUXvGJiZA44NEM8nDNVds/6Qwum1cUQQybkjs1SAbINAgR6TXizU2BAQSb73tFPaSWsUhOc10K4e3/HRzSV95801qw9yVK0SvnTlDtP7cMfpIJcbnucq1aVQRyLQRsVl7DEcgzO/YAKwgx0uczzT1edGFte11ohJ9cfzJRnfGOJ/rOudrbhXDGvFs5r6sua7dvEkPX7h2jejlCXghSl++7/FEe/4c1+Zhv6WKyyzvREWgZkZcn2koAaMRqMbv3A576DXqQTiGNcs5Pq19bX2Vrks1rK32Pf0aVeP7kpd5mHMSbvMpFs34G53I8iVfiq3573/+c3pubHqK6JUprLz6/YdRIl7G1Cr3op5dmM+SThXh22ROUQQyZyxs2RKjEcjlgs/Ng0d/IXrjxmtEq+ypI2co12stPs4gdubceXomtbVJdCfDnjpNuDcH2XtwdApItsn5mus5001LyvTcHPH54U9+QnSIPbXnx4FAjezpZfa5lp+u8rWcHi93zKGKQOaMhS1bYjQC1UvU7z/0EiwX4d1cKELX8XKE10FGVbwPsVGsaMID8KfJJBNEdznqqlKnG5VKRbrv47qy6vEHEFMxOYvcHZtPYeOusFd1M7oUPfzCMsKWZbH0nGU/pMk4VpTxIPv61NUpV7C2yuUQrUEGLiIV9p7+6i68HJeWl4iqRyIJQUuvScA2CFQveFkr9QcFk/Du5jkraon99+TU1WA/HJhjY8iTGi4idr2U3SOa4mzL7iKwyu0F+hTpjwrnjPZx9Or4NCzdJWa3w+f9lPlM1pN1I7GMX7wKm/Kla6DT57DCGghihTXgx+6bWL2zjDRicRYdQuI99tKIGstzsurHywt0vbACuu+ujSvjiupAxg2JvRrkGhnB22Zy8cSBNLf++VZLjZQEX5UqMMYtkRWccFCsvauPoVUM9sPXUWwzXj8Qy82nu5fcQDUXn7AhZyWDC8XAc4aQ3B40FcEnF4NgMAKMCQ+wH49oMHwmUCmHVWSe8Uai0jKchz+dBNKkU6DJNFaLJV5v0oXtiiKQ7YbMrAbbUgdqRoSScsPtkQh0IEGNI88lxP5/P/8z3XEVBFma4de1ZwxoQid9UwTqRHpa16JgKxWkYyWgCOTYobem4zqBrJGjY7noBHLs0FvTcZ1A1sjRsVx0Ajl26K3puE4ga+ToWC46gRw79NZ0XCeQNXJ0LBedQI4dems6rhPIGjk6lotOIMcOvTUd1wlkjRwdy0UnkGOH3pqO6wSyRo6O5aITyLFDb03HdQJZI0fHctEJ5Niht6bjOoGskaNjuegEcuzQW9NxnUDWyNGxXHQCOXborem4TiBr5OhYLjqBHDv01nRcJ5A1cnQsF51Ajh16azquE8gaOTqWi04gxw69NR3XCWSNHB3LRSeQY4femo7rBLJGjo7lohPIsUNvTcdtkCPRmo4ql+5IQBGoO3J1DFedQI4Z6u50VCdQd+TqGK5/A42iY654NuyuAAAAAElFTkSuQmCC\"></td></tr></tbody></table><div><small>(a vector displayed as a row to save space)</small></div>"
      ],
      "text/plain": [
       "2-element Array{Base.ReshapedArray{RGB{Float64},2,Base.ReinterpretArray{RGB{Float64},3,Float64,Array{Float64,3}},Tuple{}},1}:\n",
       " [RGB{Float64}(0.934641,0.934641,0.934641) RGB{Float64}(0.934641,0.934641,0.934641) … RGB{Float64}(0.934641,0.934641,0.934641) RGB{Float64}(0.934641,0.934641,0.934641); RGB{Float64}(0.934641,0.934641,0.934641) RGB{Float64}(0.934641,0.934641,0.934641) … RGB{Float64}(0.934641,0.934641,0.934641) RGB{Float64}(0.934641,0.934641,0.934641); … ; RGB{Float64}(0.934641,0.934641,0.934641) RGB{Float64}(0.934641,0.934641,0.934641) … RGB{Float64}(0.934641,0.934641,0.934641) RGB{Float64}(0.934641,0.934641,0.934641); RGB{Float64}(0.934641,0.934641,0.934641) RGB{Float64}(0.934641,0.934641,0.934641) … RGB{Float64}(0.934641,0.934641,0.934641) RGB{Float64}(0.934641,0.934641,0.934641)]                                                \n",
       " [RGB{Float64}(0.0800487,0.0800487,0.0800487) RGB{Float64}(0.0800487,0.0800487,0.0800487) … RGB{Float64}(0.0800487,0.0800487,0.0800487) RGB{Float64}(0.0800487,0.0800487,0.0800487); RGB{Float64}(0.0800487,0.0800487,0.0800487) RGB{Float64}(0.0800487,0.0800487,0.0800487) … RGB{Float64}(0.0800487,0.0800487,0.0800487) RGB{Float64}(0.0800487,0.0800487,0.0800487); … ; RGB{Float64}(0.0800487,0.0800487,0.0800487) RGB{Float64}(0.0800487,0.0800487,0.0800487) … RGB{Float64}(0.0800487,0.0800487,0.0800487) RGB{Float64}(0.0800487,0.0800487,0.0800487); RGB{Float64}(0.0800487,0.0800487,0.0800487) RGB{Float64}(0.0800487,0.0800487,0.0800487) … RGB{Float64}(0.0800487,0.0800487,0.0800487) RGB{Float64}(0.0800487,0.0800487,0.0800487)]"
      ]
     },
     "execution_count": 10,
     "metadata": {},
     "output_type": "execute_result"
    }
   ],
   "source": [
    "# The @reduce macro has notation much like you would write in LaTeX: $A_i = \\sum_j B_{i,j}$\n",
    "# That is, you have to specify the index being reduced over, and you do it right of the equals sign. \n",
    "\n",
    "# The macro doesn't care what function you use, as long as it understands sum(B, dims=2),\n",
    "# as many do. Here then are the mean and std.dev of the six images:\n",
    "\n",
    "using Statistics # standard library\n",
    "\n",
    "@reduce average[c, h,w] := mean(n) six[n][c, h,w]   # same as average = mean(six) in fact\n",
    "\n",
    "@reduce deviation[c, h,w] := std(n) npy[n, h,w, c]  # here working from original npy instead\n",
    "\n",
    "colorview.(RGB, [average, deviation])"
   ]
  },
  {
   "cell_type": "code",
   "execution_count": 11,
   "metadata": {},
   "outputs": [
    {
     "data": {
      "text/html": [
       "<table><tbody><tr><td style='text-align:center;vertical-align:middle; margin: 0.5em;border:1px #90999f solid;border-collapse:collapse'><img style='max-width: 100px; max-height:100px;display:inline' src=\"data:image/png;base64,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\"></td><td style='text-align:center;vertical-align:middle; margin: 0.5em;border:1px #90999f solid;border-collapse:collapse'><img style='max-width: 100px; max-height:100px;display:inline' src=\"data:image/png;base64,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\"></td><td style='text-align:center;vertical-align:middle; margin: 0.5em;border:1px #90999f solid;border-collapse:collapse'><img style='max-width: 100px; max-height:100px;display:inline' src=\"data:image/png;base64,iVBORw0KGgoAAAANSUhEUgAAAHgAAAB4CAIAAAC2BqGFAAAAAXNSR0IArs4c6QAAAxlJREFUeAHt27FL1GEcx/F+4WZTi3gkKNHg4tKf0Nx6S4NDiIhLqKtRU0OjuIZL4Bxtrk2CY4M0OBwK4RDuXUXb9x64B4+e7/sOezs9X38/v997Xr8PPBzndb+vru75ky9wP3+EE/4KCA3lQGihIQFojIkWGhKAxphooSEBaIyJFhoSgMaYaKEhAWiMiRYaEoDGmGihIQFojIkWGhKAxphooSEBaIyJFhoSgMaYaKEhAWiMiRYaEoDGmGihIQFojImGoOegOf82pr+5GRt8PT+P5aejo1g+Xl6O5YysTTT0IIQWGhKAxphoCLqbka9WdL1e0o4HZ2ex86PFxVhiaxMNUQstNCQAjTHREPTUDsO8068uN63D30TXn0uzq0I3o6w3Erru0+yq0M0o6424w7B++nVdF1/or8vLWE60/nB8HO9/ubMTy2KNnY0mupDPKoXOki36Cl2AZJVCZ8kWfWflMMw7lOqHcN7cAtpEFyBZpdBZskVfoQuQrFLoLNmib+I/0Hy/vi6G/c+liYaevtBCQwLQGBMNQScehu8ODm6/ifr7t9v3mfTObxcX8U+erKzEsuHaRDfErLUSuqbT8JrQDTFrrYSu6TS8lngYPl1ba/hCk1r1FhaSOhdtTXQBklUKnSVb9BW6AMkqhc6SLfre/c8Miw1PqzTRkLzQQkMC0BgTDUEnvjOcaAcvtrfj/R8PD2N5B9YmGnqIQgsNCUBjTDQEzb0zHA6HcU9zS0uxrK/f7O7GG15tbMTywfx8LL+cnsbyWb8fy5+DQSyxtYmGqIUWGhKAxphoCJo7DIsN/bi5ib95uLoay7z1+/392HxvayuWeWsTnWc70lnoEY68Qug825HOQo9w5BVTOwzrW/p8chJveL6+HsuJ1m/39uL9r6vfwY93tl2b6LaeY7sJPZam7QWh23qO7Sb0WJq2F2b0MGy7yVnoZqKhpyC00JAANMZECw0JQGNMtNCQADTGRAsNCUBjTLTQkAA0xkQLDQlAY0y00JAANMZECw0JQGNMtNCQADTGRAsNCUBjTLTQkAA0xkRD0H8AsgdeV1I5makAAAAASUVORK5C\"></td><td style='text-align:center;vertical-align:middle; margin: 0.5em;border:1px #90999f solid;border-collapse:collapse'><img style='max-width: 100px; max-height:100px;display:inline' src=\"data:image/png;base64,iVBORw0KGgoAAAANSUhEUgAAAGwAAABsCAIAAAAABMCaAAAAAXNSR0IArs4c6QAAAiJJREFUeAHt2jFOQlEURVEhVjgEGhJHQeU0qCwcAGEAjMKa2NhQMAwrxoAJDbSGhFqJ1c8pnsVl82Oxrbjv5R5+lsfEEAY/x+OdP9cJDK9bd/tXQESgByKKCAgAETZRREAAiLCJIgICQIRNFBEQACJsooiAABBhE0UEBIAImygiIABE2EQRAQEgwiaKCAgAETZRREAAiLCJIgICQIRNFBEQACLugYwbR3zu9613eJxMWld9nvvnDGiLKCIgAETYRBEBASDCJooICAARNhFAHPT5ne3heNx65O/DoXX1x/nbet26fZnNWlf4uU0ESEUUERAAImyiiIAAEGETRQQEgAibCCD2+s828Lz/MsImAr8WEUUEBIAImygiIABE2EQRAQEgwiYCiPzXSN43m9ZzPc/nrSv8/LzbtTIfRqPWVe3cJtbcYkvE4KgNItbcYkvE4KgNItbcYkvE4KgNItbcYkvE4KgNfrJdc4stmxgctUHEmltsiRgctUHEmltsiRgctUHEmltsiRgctUHEmlts8Z9sR3wOX6dTHnTT62rVDflquVjkQTd9bLfdkK+eptM8uOFkEwFcEUUEBIAImygiIABE2EQRAQEgwiYCiH6yDSDaRBEBASDCJooICAARNlFEQACIsIkiAgJAhE0UERAAImyiiIAAEGETRQQEgAibKCIgAETYRBEBASDCJooICAARNlFEQACIsIkiAgJAhE0UERAAIi5DaSbRU8KEBgAAAABJRU5ErkJg\"></td></tr></tbody></table><div><small>(a vector displayed as a row to save space)</small></div>"
      ],
      "text/plain": [
       "4-element Array{Base.ReshapedArray{RGB{Float64},2,P,MI} where MI<:Tuple{Vararg{Base.MultiplicativeInverses.SignedMultiplicativeInverse{Int64},N} where N} where P<:AbstractArray,1}:\n",
       " [RGB{Float64}(1.0,0.901961,0.901961) RGB{Float64}(1.0,0.901961,0.901961) … RGB{Float64}(1.0,0.901961,0.901961) RGB{Float64}(1.0,0.901961,0.901961); RGB{Float64}(1.0,0.901961,0.901961) RGB{Float64}(1.0,0.901961,0.901961) … RGB{Float64}(1.0,0.901961,0.901961) RGB{Float64}(1.0,0.901961,0.901961); … ; RGB{Float64}(1.0,0.901961,0.901961) RGB{Float64}(1.0,0.901961,0.901961) … RGB{Float64}(1.0,0.901961,0.901961) RGB{Float64}(1.0,0.901961,0.901961); RGB{Float64}(1.0,0.901961,0.901961) RGB{Float64}(1.0,0.901961,0.901961) … RGB{Float64}(1.0,0.901961,0.901961) RGB{Float64}(1.0,0.901961,0.901961)]\n",
       " [RGB{Float64}(1.0,0.901961,0.901961) RGB{Float64}(1.0,0.901961,0.901961) … RGB{Float64}(1.0,0.901961,0.901961) RGB{Float64}(1.0,0.901961,0.901961); RGB{Float64}(1.0,0.901961,0.901961) RGB{Float64}(1.0,0.901961,0.901961) … RGB{Float64}(1.0,0.901961,0.901961) RGB{Float64}(1.0,0.901961,0.901961); … ; RGB{Float64}(1.0,0.901961,0.901961) RGB{Float64}(1.0,0.901961,0.901961) … RGB{Float64}(1.0,0.901961,0.901961) RGB{Float64}(1.0,0.901961,0.901961); RGB{Float64}(1.0,0.901961,0.901961) RGB{Float64}(1.0,0.901961,0.901961) … RGB{Float64}(1.0,0.901961,0.901961) RGB{Float64}(1.0,0.901961,0.901961)]\n",
       " [RGB{Float64}(1.0,0.901961,0.901961) RGB{Float64}(1.0,0.901961,0.901961) … RGB{Float64}(1.0,0.901961,0.901961) RGB{Float64}(1.0,0.901961,0.901961); RGB{Float64}(1.0,0.901961,0.901961) RGB{Float64}(1.0,0.901961,0.901961) … RGB{Float64}(1.0,0.901961,0.901961) RGB{Float64}(1.0,0.901961,0.901961); … ; RGB{Float64}(1.0,0.901961,0.901961) RGB{Float64}(1.0,0.901961,0.901961) … RGB{Float64}(1.0,0.901961,0.901961) RGB{Float64}(1.0,0.901961,0.901961); RGB{Float64}(1.0,0.901961,0.901961) RGB{Float64}(1.0,0.901961,0.901961) … RGB{Float64}(1.0,0.901961,0.901961) RGB{Float64}(1.0,0.901961,0.901961)]\n",
       " [RGB{Float64}(1.0,0.901961,0.901961) RGB{Float64}(1.0,0.901961,0.901961) … RGB{Float64}(1.0,0.901961,0.901961) RGB{Float64}(1.0,0.901961,0.901961); RGB{Float64}(1.0,0.901961,0.901961) RGB{Float64}(1.0,0.901961,0.901961) … RGB{Float64}(1.0,0.901961,0.901961) RGB{Float64}(1.0,0.901961,0.901961); … ; RGB{Float64}(1.0,0.901961,0.901961) RGB{Float64}(1.0,0.901961,0.901961) … RGB{Float64}(1.0,0.901961,0.901961) RGB{Float64}(1.0,0.901961,0.901961); RGB{Float64}(1.0,0.901961,0.901961) RGB{Float64}(1.0,0.901961,0.901961) … RGB{Float64}(1.0,0.901961,0.901961) RGB{Float64}(1.0,0.901961,0.901961)]"
      ]
     },
     "execution_count": 11,
     "metadata": {},
     "output_type": "execute_result"
    }
   ],
   "source": [
    "# Max-pooling: Here we divide each image axis into a short and a long component \n",
    "# (exactly as for @shape) and then reduce along the short one. \n",
    "\n",
    "img = six[1]\n",
    "@reduce maxpool2[c, h,w] := maximum(α,β) img[c, α\\h, β\\w]  α:2, β:2\n",
    "\n",
    "@reduce maxpool4[c, h,w] := maximum(α:4, β:4) img[c, α\\h, β\\w] # can also specify ranges inside \n",
    "@reduce maxpool8[c, h,w] := maximum(α:8, β:8) img[c, α\\h, β\\w]\n",
    "\n",
    "colorview.(RGB, [img, maxpool2, maxpool4, maxpool8])"
   ]
  },
  {
   "cell_type": "code",
   "execution_count": 12,
   "metadata": {},
   "outputs": [
    {
     "data": {
      "text/html": [
       "<table><tbody><tr><td style='text-align:center;vertical-align:middle; margin: 0.5em;border:1px #90999f solid;border-collapse:collapse'><img style='max-width: 100px; max-height:100px;display:inline' src=\"data:image/png;base64,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\"></td><td style='text-align:center;vertical-align:middle; margin: 0.5em;border:1px #90999f solid;border-collapse:collapse'><img style='max-width: 100px; max-height:100px;display:inline' src=\"data:image/png;base64,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\"></td><td style='text-align:center;vertical-align:middle; margin: 0.5em;border:1px #90999f solid;border-collapse:collapse'><img style='max-width: 100px; max-height:100px;display:inline' src=\"data:image/png;base64,iVBORw0KGgoAAAANSUhEUgAAAHgAAAB4CAIAAAC2BqGFAAAAAXNSR0IArs4c6QAABD1JREFUeAHtnD9IVVEcx32iYvk/0RxERAlEBCOKiEREpBQaHAJ1EsHBWScXa2vSJrFFFBfFRTLEPw3i0B+Q2hpVxCLTSs2Hkg1m2/fceud59ZzvE/o6/b73d+753vN5Xzxc371G3h0fJ+nHP4Fk/xZy+ENAoEk5EGiBJhEg2SjRAk0iQLJRogWaRIBko0QLNIkAyUaJFmgSAZKNEi3QJAIkGyVaoEkESDZKtECTCJBslGiBJhEg2SjRAk0iQLJRogWaRIBko0QLNIkAyUaJFmgSAZKNEk0CnULy+cvmIBrFY69nZw05N2eRO9vb2L1SWIjyRm0tyus1NSjvNDaiLC4rQ+mvVqL9sTVmFmgDhz8h0P7YGjMLtIHDn4jQXq0I7GCP2ttxVa/MzRBbbuv+qSmcsK65GaW/Won2x9aYWaANHP6EQPtja8ws0AYOf4J3Z/h8eBiXQdv90PSkLiwuDhzhSCWaw1nvGZI4C7RAswiQfIib4cjI6dfUOzSEg++3tqLMyM5GebC/j/LLxgbKD8vLKItKSlDSam2GJNQCLdAkAiQbJZoEmrcZXsrIOP2aont7ODg1LQ1lcrKRj8ycHOwGZHlVFXYTVRtXnKiL+B98BZr0KQu0QJMIkGx43xm+GB3FNT3u6EBpr0srKnDAw64ulIEnZgK7X0pqKg5OVK1fHSTyAi3QJAIkGyWaBJq3Gf46OsI1TQ4Oonza04Py+Bz/MfVWfT1O1dHbi/J2QwNKWq1Ek1ALtECTCJBslGgSaN5maF/Qp7U1HPB+aQnl3Pg4yrcLCyhD1U8mJnD8vZYWlP5qJdofW2NmgTZw+BMC7Y+tMbNAGzj8iYuyGdpXGLhR/LiyguMDW+Wzvj7sBuq8ggI8Mr26ivJyZiZKh7US7RCmbSqBttFx2BNohzBtUwm0jY7DHm8znDafJr1WXY3LKK+sRJmWno7SXn9eX8cBD0pLUdrrGfNcf8+aKtH2D8JZV6CdobRPJNB2Ps66Au0MpX0ij0+TBr4k7O/uxkuJ7u6izC8qQnm3qQnlVfPlwO9bW9h9Mz+P0l4H7gxz8vPt4111lWhXJOPMI9BxALlqC7QrknHmEeg4gFy1PW6GXzc38SoDux+2Tupv5uDAbWRg8Hlk98AAnh7qhQ88MWytRIcldsbxAn1GcGFPE+iwxM44XqDPCC7saR7/TPrz8BCvZnlxEeXLyUmUM2NjKANfEmLrH3Ukggcb29pQNnd2orxZV4cyYp6LLbe1Eu2WZ8zZBDomGrcNgXbLM+ZsAh0TjduGx80w1IXu7+zg+B/mH1GTzDctAjtYVm4unpuVl4fygtRKNOmDEGiBJhEg2SjRJNAXZTMkLTdxNko0ib1ACzSJAMlGiRZoEgGSjRIt0CQCJBslWqBJBEg2SrRAkwiQbJRogSYRINko0QJNIkCyUaIFmkSAZKNECzSJAMnmN9b9rg5eVB+tAAAAAElFTkSuQmCC\"></td><td style='text-align:center;vertical-align:middle; margin: 0.5em;border:1px #90999f solid;border-collapse:collapse'><img style='max-width: 100px; max-height:100px;display:inline' src=\"data:image/png;base64,iVBORw0KGgoAAAANSUhEUgAAAGwAAABsCAIAAAAABMCaAAAAAXNSR0IArs4c6QAAAs9JREFUeAHt3LFL1WEUxvFueA0JbJAILjg4tIljS0vgkptT4Kzg1uC/EA4O+ge46CS4NNR2wVkMmkQXqaFFIS/UbHir6b1nOHc499sQfJ3e8zu8Tz8+PcJFxM7n4fCBX5MJPJzsurf/CogI9EBEEQEBIMImiggIABE2UURAAIiwiSICAkCETRQREAAibKKIgAAQYRNFBASACJsoIiAARNhEEQEBIMImiggIABE2UURAAIiwiSICAkDEFJARI37d3cUHbfpwcNCGeHq/vx8ftOnb1VUb4unlykp80Katvb02xNPTXi8+mHTy23lSwT/3RRQREAAibKKIgAAQYRNFBASACJsIIPIfts9PT7P32t7czFZbu7vZqrewkK2+Xl5mq0czM9kKf24TAVIRRQQEgAibKCIgAETYRBEBASDCJgKI/IftqW4XeK+RiOdLSyNTOL5aXQ3zyNDpdEamf3u0iYCviCICAkCETRQREAAibKKIgAAQYRMBxA7+10iG9/fZe532+9nq4+FhtuofH2er1fX1bPV2ZydbPZmby1a15zax5hZuiRg4aoOINbdwS8TAURtErLmFWyIGjtogYs0t3BIxcNQG/sP2j9vb7FW609PZ6vHsbLb6cnGRrd4sLmar7aOjbPV6bS1b1Z7bxJpbuCVi4KgNItbcwi0RA0dtELHmFm6JGDhqg4g1t3BLxMBRG/hfI/l0cpK9yruNjWz1Ynk5W32/vs5WY54/m58fs2VXNhHwFFFEQACIsIkiAgJAhE0UERAAImwigMj/ZPvnYJC91/nZWbYa3NxkqzE/Dx/z69xjVtk/VH5uE8t07aKIzaJ8ErFM1y6K2CzKJxHLdO2iiM2ifBKxTNcuitgsyif+w3b5Vf7fizYR+L8TUURAAIiwiSICAkCETRQREAAibKKIgAAQYRNFBASACJsoIiAARNhEEQEBIMImiggIABG/AU4bSdnHIvsqAAAAAElFTkSuQmCC\"></td></tr></tbody></table><div><small>(a vector displayed as a row to save space)</small></div>"
      ],
      "text/plain": [
       "4-element Array{Base.ReshapedArray{RGB{Float64},2,P,MI} where MI<:Tuple{Vararg{Base.MultiplicativeInverses.SignedMultiplicativeInverse{Int64},N} where N} where P<:AbstractArray,1}:\n",
       " [RGB{Float64}(1.0,1.0,0.803922) RGB{Float64}(1.0,1.0,0.803922) … RGB{Float64}(1.0,1.0,0.803922) RGB{Float64}(1.0,1.0,0.803922); RGB{Float64}(1.0,1.0,0.803922) RGB{Float64}(1.0,1.0,0.803922) … RGB{Float64}(1.0,1.0,0.803922) RGB{Float64}(1.0,1.0,0.803922); … ; RGB{Float64}(1.0,1.0,0.803922) RGB{Float64}(1.0,1.0,0.803922) … RGB{Float64}(1.0,1.0,0.803922) RGB{Float64}(1.0,1.0,0.803922); RGB{Float64}(1.0,1.0,0.803922) RGB{Float64}(1.0,1.0,0.803922) … RGB{Float64}(1.0,1.0,0.803922) RGB{Float64}(1.0,1.0,0.803922)]\n",
       " [RGB{Float64}(0.803922,1.0,1.0) RGB{Float64}(0.803922,1.0,1.0) … RGB{Float64}(0.803922,1.0,1.0) RGB{Float64}(0.803922,1.0,1.0); RGB{Float64}(0.803922,1.0,1.0) RGB{Float64}(0.803922,1.0,1.0) … RGB{Float64}(0.803922,1.0,1.0) RGB{Float64}(0.803922,1.0,1.0); … ; RGB{Float64}(0.803922,1.0,1.0) RGB{Float64}(0.803922,1.0,1.0) … RGB{Float64}(0.803922,1.0,1.0) RGB{Float64}(0.803922,1.0,1.0); RGB{Float64}(0.803922,1.0,1.0) RGB{Float64}(0.803922,1.0,1.0) … RGB{Float64}(0.803922,1.0,1.0) RGB{Float64}(0.803922,1.0,1.0)]\n",
       " [RGB{Float64}(0.803922,1.0,1.0) RGB{Float64}(0.803922,1.0,1.0) … RGB{Float64}(0.803922,1.0,1.0) RGB{Float64}(0.803922,1.0,1.0); RGB{Float64}(0.803922,1.0,1.0) RGB{Float64}(0.803922,1.0,1.0) … RGB{Float64}(0.803922,1.0,1.0) RGB{Float64}(0.803922,1.0,1.0); … ; RGB{Float64}(0.803922,1.0,1.0) RGB{Float64}(0.803922,1.0,1.0) … RGB{Float64}(0.803922,1.0,1.0) RGB{Float64}(0.803922,1.0,1.0); RGB{Float64}(0.803922,1.0,1.0) RGB{Float64}(0.803922,1.0,1.0) … RGB{Float64}(0.803922,1.0,1.0) RGB{Float64}(0.803922,1.0,1.0)]\n",
       " [RGB{Float64}(0.803922,1.0,1.0) RGB{Float64}(0.803922,1.0,1.0) … RGB{Float64}(0.803922,1.0,1.0) RGB{Float64}(0.803922,1.0,1.0); RGB{Float64}(0.803922,1.0,1.0) RGB{Float64}(0.803922,1.0,1.0) … RGB{Float64}(0.803922,1.0,1.0) RGB{Float64}(0.803922,1.0,1.0); … ; RGB{Float64}(0.803922,1.0,1.0) RGB{Float64}(0.803922,1.0,1.0) … RGB{Float64}(0.803922,1.0,1.0) RGB{Float64}(0.803922,1.0,1.0); RGB{Float64}(0.803922,1.0,1.0) RGB{Float64}(0.803922,1.0,1.0) … RGB{Float64}(0.803922,1.0,1.0) RGB{Float64}(0.803922,1.0,1.0)]"
      ]
     },
     "execution_count": 12,
     "metadata": {},
     "output_type": "execute_result"
    }
   ],
   "source": [
    "# The reduction function does not have to be something built-in. \n",
    "# Here's a root-mean-squared functions which takes the expected dims keyword: \n",
    "\n",
    "rms(A; dims) = sqrt.(mean(A .* A; dims=dims))\n",
    "\n",
    "img = six[end]\n",
    "@reduce rms2[-c, h,w] := rms(α:2, β:2) img[c, α\\h, β\\w]  \n",
    "@reduce rms4[-c, h,w] := rms(α:4, β:4) img[c, α\\h, β\\w]\n",
    "@reduce rms8[-c, h,w] := rms(α:8, β:8) img[c, α\\h, β\\w]\n",
    "\n",
    "colorview.(RGB, [img, rms2, rms4, rms8])"
   ]
  },
  {
   "cell_type": "markdown",
   "metadata": {},
   "source": [
    "## Fixed indices"
   ]
  },
  {
   "cell_type": "code",
   "execution_count": 13,
   "metadata": {},
   "outputs": [
    {
     "data": {
      "text/plain": [
       "(3, 1, 96, 1, 96, 6)"
      ]
     },
     "execution_count": 13,
     "metadata": {},
     "output_type": "execute_result"
    }
   ],
   "source": [
    "# What einops calls \"0 axes\" are output dimensions in which the relevant index has only one value. \n",
    "# Such things are useful for aligning dimensions where some broadcasting operation expects them to be. \n",
    "\n",
    "@cast gaps[c,_,h,_,w,n] := six[n][c,h,w] # you can write 1 or _ \n",
    "size(gaps)"
   ]
  },
  {
   "cell_type": "code",
   "execution_count": 14,
   "metadata": {},
   "outputs": [
    {
     "data": {
      "image/png": "[encoded data removed]",
      "text/plain": [
       "96×576 Array{Gray{Float64},2} with eltype Gray{Float64}:\n",
       " Gray{Float64}(0.901961)  Gray{Float64}(0.901961)  …  Gray{Float64}(1.0)\n",
       " Gray{Float64}(0.901961)  Gray{Float64}(0.901961)     Gray{Float64}(1.0)\n",
       " Gray{Float64}(0.901961)  Gray{Float64}(0.901961)     Gray{Float64}(1.0)\n",
       " Gray{Float64}(0.901961)  Gray{Float64}(0.901961)     Gray{Float64}(1.0)\n",
       " Gray{Float64}(0.901961)  Gray{Float64}(0.901961)     Gray{Float64}(1.0)\n",
       " Gray{Float64}(0.901961)  Gray{Float64}(0.901961)  …  Gray{Float64}(1.0)\n",
       " Gray{Float64}(0.901961)  Gray{Float64}(0.901961)     Gray{Float64}(1.0)\n",
       " Gray{Float64}(0.901961)  Gray{Float64}(0.901961)     Gray{Float64}(1.0)\n",
       " Gray{Float64}(0.901961)  Gray{Float64}(0.901961)     Gray{Float64}(1.0)\n",
       " Gray{Float64}(0.901961)  Gray{Float64}(0.901961)     Gray{Float64}(1.0)\n",
       " Gray{Float64}(0.901961)  Gray{Float64}(0.901961)  …  Gray{Float64}(1.0)\n",
       " Gray{Float64}(0.901961)  Gray{Float64}(0.901961)     Gray{Float64}(1.0)\n",
       " Gray{Float64}(0.901961)  Gray{Float64}(0.901961)     Gray{Float64}(1.0)\n",
       " ⋮                                                 ⋱  ⋮                 \n",
       " Gray{Float64}(0.901961)  Gray{Float64}(0.901961)     Gray{Float64}(1.0)\n",
       " Gray{Float64}(0.901961)  Gray{Float64}(0.901961)  …  Gray{Float64}(1.0)\n",
       " Gray{Float64}(0.901961)  Gray{Float64}(0.901961)     Gray{Float64}(1.0)\n",
       " Gray{Float64}(0.901961)  Gray{Float64}(0.901961)     Gray{Float64}(1.0)\n",
       " Gray{Float64}(0.901961)  Gray{Float64}(0.901961)     Gray{Float64}(1.0)\n",
       " Gray{Float64}(0.901961)  Gray{Float64}(0.901961)     Gray{Float64}(1.0)\n",
       " Gray{Float64}(0.901961)  Gray{Float64}(0.901961)  …  Gray{Float64}(1.0)\n",
       " Gray{Float64}(0.901961)  Gray{Float64}(0.901961)     Gray{Float64}(1.0)\n",
       " Gray{Float64}(0.901961)  Gray{Float64}(0.901961)     Gray{Float64}(1.0)\n",
       " Gray{Float64}(0.901961)  Gray{Float64}(0.901961)     Gray{Float64}(1.0)\n",
       " Gray{Float64}(0.901961)  Gray{Float64}(0.901961)     Gray{Float64}(1.0)\n",
       " Gray{Float64}(0.901961)  Gray{Float64}(0.901961)  …  Gray{Float64}(1.0)"
      ]
     },
     "execution_count": 14,
     "metadata": {},
     "output_type": "execute_result"
    }
   ],
   "source": [
    "# You may also fix an index on the input side, which takes a single slice. \n",
    "# Here we take only the 2nd colour channel, almost equivalent to npy[:,:,:,2]:\n",
    "\n",
    "# @cast bluechannel[h,w\\n] := six[n][2,h,w] error right now, sorry\n",
    "@cast bluechannel[-h, w\\n] := npy[n,h,w,2]\n",
    "\n",
    "cblue = 2 # to interpolate a variable, use a dollar sign: \n",
    "@cast bluechannel[-h, w\\n] := npy[n,h,w, $cblue] # same result\n",
    "\n",
    "Gray.(bluechannel) # with h reversed, too"
   ]
  },
  {
   "cell_type": "markdown",
   "metadata": {},
   "source": [
    "## Extras: `@pretty`, broadcasting, `@check!`, arbitrary arrays"
   ]
  },
  {
   "cell_type": "code",
   "execution_count": 15,
   "metadata": {
    "scrolled": true
   },
   "outputs": [
    {
     "name": "stdout",
     "output_type": "stream",
     "text": [
      "begin\n",
      "    local sz = (size(npy, 2), size(npy, 3), size(npy, 1))\n",
      "    local jellyfish = PermutedDimsArray(view(npy, :, :, :, 2), (2, 3, 1))\n",
      "    bluechannel = reshape(reverse(jellyfish, dims=1), (sz[1], sz[2] * sz[3]))\n",
      "end\n"
     ]
    }
   ],
   "source": [
    "# This whole package only runs when your code is being loaded, \n",
    "# and produces actual Julia code to do the work later. \n",
    "# To see what happens, use the @pretty macro: \n",
    "\n",
    "@pretty @cast bluechannel[-h, w\\n] := npy[n,h,w,2]"
   ]
  },
  {
   "cell_type": "code",
   "execution_count": 16,
   "metadata": {},
   "outputs": [
    {
     "name": "stdout",
     "output_type": "stream",
     "text": [
      "begin\n",
      "    local jellyfish = PermutedDimsArray(npy, (4, 2, 3, 1))\n",
      "    deviation = dropdims(std(jellyfish, dims=4), dims=4)\n",
      "end\n"
     ]
    }
   ],
   "source": [
    "@pretty @reduce deviation[c, h,w] := std(n) npy[n, h,w, c]"
   ]
  },
  {
   "cell_type": "code",
   "execution_count": 17,
   "metadata": {},
   "outputs": [
    {
     "name": "stdout",
     "output_type": "stream",
     "text": [
      "begin\n",
      "    local sz = (size(npy, 4), size(npy, 2), size(npy, 3), size(npy, 1))\n",
      "    local jellyfish = PermutedDimsArray(npy, (4, 2, 3, 1))\n",
      "    sixdark = reshape((-).(1, (^).(jellyfish, 3)), (sz[1], sz[2], sz[3] * sz[4]))\n",
      "end\n"
     ]
    },
    {
     "data": {
      "image/png": "[encoded data removed]",
      "text/plain": [
       "96×576 reshape(reinterpret(RGB{Float64}, ::Array{Float64,3}), 96, 576) with eltype RGB{Float64}:\n",
       " RGB{Float64}(0.0,0.266225,0.266225)  …  RGB{Float64}(0.0,0.0,0.480434)\n",
       " RGB{Float64}(0.0,0.266225,0.266225)     RGB{Float64}(0.0,0.0,0.480434)\n",
       " RGB{Float64}(0.0,0.266225,0.266225)     RGB{Float64}(0.0,0.0,0.480434)\n",
       " RGB{Float64}(0.0,0.266225,0.266225)     RGB{Float64}(0.0,0.0,0.480434)\n",
       " RGB{Float64}(0.0,0.266225,0.266225)     RGB{Float64}(0.0,0.0,0.480434)\n",
       " RGB{Float64}(0.0,0.266225,0.266225)  …  RGB{Float64}(0.0,0.0,0.480434)\n",
       " RGB{Float64}(0.0,0.266225,0.266225)     RGB{Float64}(0.0,0.0,0.480434)\n",
       " RGB{Float64}(0.0,0.266225,0.266225)     RGB{Float64}(0.0,0.0,0.480434)\n",
       " RGB{Float64}(0.0,0.266225,0.266225)     RGB{Float64}(0.0,0.0,0.480434)\n",
       " RGB{Float64}(0.0,0.266225,0.266225)     RGB{Float64}(0.0,0.0,0.480434)\n",
       " RGB{Float64}(0.0,0.266225,0.266225)  …  RGB{Float64}(0.0,0.0,0.480434)\n",
       " RGB{Float64}(0.0,0.266225,0.266225)     RGB{Float64}(0.0,0.0,0.480434)\n",
       " RGB{Float64}(0.0,0.266225,0.266225)     RGB{Float64}(0.0,0.0,0.480434)\n",
       " ⋮                                    ⋱  ⋮                             \n",
       " RGB{Float64}(0.0,0.266225,0.266225)     RGB{Float64}(0.0,0.0,0.480434)\n",
       " RGB{Float64}(0.0,0.266225,0.266225)  …  RGB{Float64}(0.0,0.0,0.480434)\n",
       " RGB{Float64}(0.0,0.266225,0.266225)     RGB{Float64}(0.0,0.0,0.480434)\n",
       " RGB{Float64}(0.0,0.266225,0.266225)     RGB{Float64}(0.0,0.0,0.480434)\n",
       " RGB{Float64}(0.0,0.266225,0.266225)     RGB{Float64}(0.0,0.0,0.480434)\n",
       " RGB{Float64}(0.0,0.266225,0.266225)     RGB{Float64}(0.0,0.0,0.480434)\n",
       " RGB{Float64}(0.0,0.266225,0.266225)  …  RGB{Float64}(0.0,0.0,0.480434)\n",
       " RGB{Float64}(0.0,0.266225,0.266225)     RGB{Float64}(0.0,0.0,0.480434)\n",
       " RGB{Float64}(0.0,0.266225,0.266225)     RGB{Float64}(0.0,0.0,0.480434)\n",
       " RGB{Float64}(0.0,0.266225,0.266225)     RGB{Float64}(0.0,0.0,0.480434)\n",
       " RGB{Float64}(0.0,0.266225,0.266225)     RGB{Float64}(0.0,0.0,0.480434)\n",
       " RGB{Float64}(0.0,0.266225,0.266225)  …  RGB{Float64}(0.0,0.0,0.480434)"
      ]
     },
     "execution_count": 17,
     "metadata": {},
     "output_type": "execute_result"
    }
   ],
   "source": [
    "# Besides \"re-casting\" the same data into different shapes, the macro @cast also provides \n",
    "# another way to access all of Julia's broadcasting machinery (hence the name).\n",
    "# Here, f(x) = 1 - x^3 is applied to every number, turning white into black in each channel: \n",
    "\n",
    "@pretty @cast sixdark[c, h, w\\n] := 1 - npy[n, h,w, c]^3 # print the operation, as above\n",
    "\n",
    "@cast sixdark[c, h, w\\n] := 1 - npy[n, h,w, c]^3\n",
    "\n",
    "colorview(RGB, sixdark)"
   ]
  },
  {
   "cell_type": "code",
   "execution_count": 18,
   "metadata": {},
   "outputs": [
    {
     "data": {
      "text/plain": [
       "Dict{Symbol,Tuple} with 2 entries:\n",
       "  :A   => (:i, :j, :k)\n",
       "  :npy => (:n, :h, :w, :c)"
      ]
     },
     "execution_count": 18,
     "metadata": {},
     "output_type": "execute_result"
    }
   ],
   "source": [
    "# There is one more macro, and one more version of each...\n",
    "# @check! aims to allow sanity checks of index-notation expressions, \n",
    "# by saving (to a dictionary) what kind of letter should appear in each slot. \n",
    "\n",
    "@check! npy[n, h,w, c] # saves what letters to expect\n",
    "\n",
    "A = rand(2,2,2)\n",
    "@check! A[i,j,k]\n",
    "\n",
    "TensorCast.index_store"
   ]
  },
  {
   "cell_type": "code",
   "execution_count": 19,
   "metadata": {},
   "outputs": [
    {
     "name": "stderr",
     "output_type": "stream",
     "text": [
      "┌ Error: @check! npy[n, w, h, c] now has index w where previously it had h\n",
      "└ @ Main In[19]:1\n",
      "┌ Error: @check! npy[n, w, h, c] now has index h where previously it had w\n",
      "└ @ Main In[19]:1\n"
     ]
    },
    {
     "data": {
      "text/plain": [
       "2×2×2 Array{Float64,3}:\n",
       "[:, :, 1] =\n",
       " 0.68462    0.112153\n",
       " 0.0323062  0.852852\n",
       "\n",
       "[:, :, 2] =\n",
       " 0.751227  0.394068 \n",
       " 0.202148  0.0417655"
      ]
     },
     "execution_count": 19,
     "metadata": {},
     "output_type": "execute_result"
    }
   ],
   "source": [
    "@check! npy[n, w,h, c]; # compains using \"@error\", but still runs\n",
    "\n",
    "@check! A[j,i,k] # does not complain, as i & j are nearby letters (you can adjust how near is OK)"
   ]
  },
  {
   "cell_type": "code",
   "execution_count": 20,
   "metadata": {
    "scrolled": false
   },
   "outputs": [
    {
     "name": "stderr",
     "output_type": "stream",
     "text": [
      "┌ Info: Recompiling stale cache file /Users/me/.julia/compiled/v1.1/Flux/QdkVy.ji for Flux [587475ba-b771-5e3f-ad9e-33799f191a9c]\n",
      "└ @ Base loading.jl:1184\n"
     ]
    },
    {
     "name": "stdout",
     "output_type": "stream",
     "text": [
      "extrema(trgrad) = (-4.0, 4.0)\n"
     ]
    },
    {
     "data": {
      "image/png": "[encoded data removed]",
      "text/plain": [
       "96×96 reshape(reinterpret(RGB{Float64}, ::Array{Float64,3}), 96, 96) with eltype RGB{Float64}:\n",
       " RGB{Float64}(0.5,0.5,0.5)  …  RGB{Float64}(0.5,0.5,0.5)\n",
       " RGB{Float64}(0.5,0.5,0.5)     RGB{Float64}(0.5,0.5,0.5)\n",
       " RGB{Float64}(0.5,0.5,0.5)     RGB{Float64}(0.5,0.5,0.5)\n",
       " RGB{Float64}(0.5,0.5,0.5)     RGB{Float64}(0.5,0.5,0.5)\n",
       " RGB{Float64}(0.5,0.5,0.5)     RGB{Float64}(0.5,0.5,0.5)\n",
       " RGB{Float64}(0.5,0.5,0.5)  …  RGB{Float64}(0.5,0.5,0.5)\n",
       " RGB{Float64}(0.5,0.5,0.5)     RGB{Float64}(0.5,0.5,0.5)\n",
       " RGB{Float64}(0.5,0.5,0.5)     RGB{Float64}(0.5,0.5,0.5)\n",
       " RGB{Float64}(0.5,0.5,0.5)     RGB{Float64}(0.5,0.5,0.5)\n",
       " RGB{Float64}(0.5,0.5,0.5)     RGB{Float64}(0.5,0.5,0.5)\n",
       " RGB{Float64}(0.5,0.5,0.5)  …  RGB{Float64}(0.5,0.5,0.5)\n",
       " RGB{Float64}(0.5,0.5,0.5)     RGB{Float64}(0.5,0.5,0.5)\n",
       " RGB{Float64}(0.5,0.5,0.5)     RGB{Float64}(0.5,0.5,0.5)\n",
       " ⋮                          ⋱  ⋮                        \n",
       " RGB{Float64}(0.5,0.5,0.5)     RGB{Float64}(0.5,0.5,0.5)\n",
       " RGB{Float64}(0.5,0.5,0.5)  …  RGB{Float64}(0.5,0.5,0.5)\n",
       " RGB{Float64}(0.5,0.5,0.5)     RGB{Float64}(0.5,0.5,0.5)\n",
       " RGB{Float64}(0.5,0.5,0.5)     RGB{Float64}(0.5,0.5,0.5)\n",
       " RGB{Float64}(0.5,0.5,0.5)     RGB{Float64}(0.5,0.5,0.5)\n",
       " RGB{Float64}(0.5,0.5,0.5)     RGB{Float64}(0.5,0.5,0.5)\n",
       " RGB{Float64}(0.5,0.5,0.5)  …  RGB{Float64}(0.5,0.5,0.5)\n",
       " RGB{Float64}(0.5,0.5,0.5)     RGB{Float64}(0.5,0.5,0.5)\n",
       " RGB{Float64}(0.5,0.5,0.5)     RGB{Float64}(0.5,0.5,0.5)\n",
       " RGB{Float64}(0.5,0.5,0.5)     RGB{Float64}(0.5,0.5,0.5)\n",
       " RGB{Float64}(0.5,0.5,0.5)     RGB{Float64}(0.5,0.5,0.5)\n",
       " RGB{Float64}(0.5,0.5,0.5)  …  RGB{Float64}(0.5,0.5,0.5)"
      ]
     },
     "execution_count": 20,
     "metadata": {},
     "output_type": "execute_result"
    }
   ],
   "source": [
    "# These commands should work on anything Julia understands. \n",
    "# Here is a trivial example calculating a gradient using Flux, \n",
    "# aiming to minimise the difference between an image and its transpose: \n",
    "\n",
    "function loss_one(img) \n",
    "    @cast transposed[c, w,h] := img[c, h,w]\n",
    "    sum((transposed .- img ).^2) \n",
    "end\n",
    "\n",
    "using Flux \n",
    "\n",
    "trgrad = Flux.gradient(loss_one, six[1])[1].data\n",
    "\n",
    "@show extrema(trgrad)\n",
    "\n",
    "colorview(RGB, trgrad ./8 .+ 0.5 )"
   ]
  },
  {
   "cell_type": "code",
   "execution_count": 21,
   "metadata": {},
   "outputs": [
    {
     "name": "stderr",
     "output_type": "stream",
     "text": [
      "┌ Info: Recompiling stale cache file /Users/me/.julia/compiled/v1.1/CuArrays/7YFE0.ji for CuArrays [3a865a2d-5b23-5a0f-bc46-62713ec82fae]\n",
      "└ @ Base loading.jl:1184\n"
     ]
    },
    {
     "data": {
      "image/png": "[encoded data removed]",
      "text/plain": [
       "96×96 reshape(reinterpret(RGB{Float64}, ::Array{Float64,3}), 96, 96) with eltype RGB{Float64}:\n",
       " RGB{Float64}(0.5,0.5,0.5)  …  RGB{Float64}(0.5,0.5,0.5)\n",
       " RGB{Float64}(0.5,0.5,0.5)     RGB{Float64}(0.5,0.5,0.5)\n",
       " RGB{Float64}(0.5,0.5,0.5)     RGB{Float64}(0.5,0.5,0.5)\n",
       " RGB{Float64}(0.5,0.5,0.5)     RGB{Float64}(0.5,0.5,0.5)\n",
       " RGB{Float64}(0.5,0.5,0.5)     RGB{Float64}(0.5,0.5,0.5)\n",
       " RGB{Float64}(0.5,0.5,0.5)  …  RGB{Float64}(0.5,0.5,0.5)\n",
       " RGB{Float64}(0.5,0.5,0.5)     RGB{Float64}(0.5,0.5,0.5)\n",
       " RGB{Float64}(0.5,0.5,0.5)     RGB{Float64}(0.5,0.5,0.5)\n",
       " RGB{Float64}(0.5,0.5,0.5)     RGB{Float64}(0.5,0.5,0.5)\n",
       " RGB{Float64}(0.5,0.5,0.5)     RGB{Float64}(0.5,0.5,0.5)\n",
       " RGB{Float64}(0.5,0.5,0.5)  …  RGB{Float64}(0.5,0.5,0.5)\n",
       " RGB{Float64}(0.5,0.5,0.5)     RGB{Float64}(0.5,0.5,0.5)\n",
       " RGB{Float64}(0.5,0.5,0.5)     RGB{Float64}(0.5,0.5,0.5)\n",
       " ⋮                          ⋱  ⋮                        \n",
       " RGB{Float64}(0.5,0.5,0.5)     RGB{Float64}(0.5,0.5,0.5)\n",
       " RGB{Float64}(0.5,0.5,0.5)  …  RGB{Float64}(0.5,0.5,0.5)\n",
       " RGB{Float64}(0.5,0.5,0.5)     RGB{Float64}(0.5,0.5,0.5)\n",
       " RGB{Float64}(0.5,0.5,0.5)     RGB{Float64}(0.5,0.5,0.5)\n",
       " RGB{Float64}(0.5,0.5,0.5)     RGB{Float64}(0.5,0.5,0.5)\n",
       " RGB{Float64}(0.5,0.5,0.5)     RGB{Float64}(0.5,0.5,0.5)\n",
       " RGB{Float64}(0.5,0.5,0.5)  …  RGB{Float64}(0.5,0.5,0.5)\n",
       " RGB{Float64}(0.5,0.5,0.5)     RGB{Float64}(0.5,0.5,0.5)\n",
       " RGB{Float64}(0.5,0.5,0.5)     RGB{Float64}(0.5,0.5,0.5)\n",
       " RGB{Float64}(0.5,0.5,0.5)     RGB{Float64}(0.5,0.5,0.5)\n",
       " RGB{Float64}(0.5,0.5,0.5)     RGB{Float64}(0.5,0.5,0.5)\n",
       " RGB{Float64}(0.5,0.5,0.5)  …  RGB{Float64}(0.5,0.5,0.5)"
      ]
     },
     "execution_count": 21,
     "metadata": {},
     "output_type": "execute_result"
    }
   ],
   "source": [
    "# Try the same thing on GPU? \n",
    "# It fails because PermutedDimsArray doesn't work well with Flux there... sorry\n",
    "\n",
    "using CuArrays\n",
    "\n",
    "cu_img = cu(six[1])\n",
    "\n",
    "# cu_grad = Flux.gradient(loss_one, cu_img)[1].data\n",
    "\n",
    "function loss_cu(img) \n",
    "    # @cast transposed[c, w,h] := img[c, h,w] # @pretty result below\n",
    "    begin\n",
    "        # local guineapig = PermutedDimsArray(img, (1, 3, 2)) # avoid this\n",
    "        local guineapig = permutedims(img, (1, 3, 2))\n",
    "        transposed = guineapig\n",
    "    end\n",
    "    return sum((transposed .- img ).^2) \n",
    "end\n",
    "\n",
    "cu_grad = Flux.gradient(loss_cu, cu_img)[1].data\n",
    "\n",
    "grad = collect(cu_grad) # back to CPU\n",
    "\n",
    "colorview(RGB, grad ./8 .+ 0.5 )"
   ]
  },
  {
   "cell_type": "code",
   "execution_count": 22,
   "metadata": {},
   "outputs": [
    {
     "data": {
      "text/plain": [
       "3×96×96 PermutedDimsArray(view(::CuArray{Float32,4}, :, :, :, 1), (1, 3, 2)) with eltype Float32:\n",
       "[:, :, 1] =\n",
       " 1.0       1.0       1.0       1.0       …  1.0       1.0       1.0     \n",
       " 0.901961  0.901961  0.901961  0.901961     0.901961  0.901961  0.901961\n",
       " 0.901961  0.901961  0.901961  0.901961     0.901961  0.901961  0.901961\n",
       "\n",
       "[:, :, 2] =\n",
       " 1.0       1.0       1.0       1.0       …  1.0       1.0       1.0     \n",
       " 0.901961  0.901961  0.901961  0.901961     0.901961  0.901961  0.901961\n",
       " 0.901961  0.901961  0.901961  0.901961     0.901961  0.901961  0.901961\n",
       "\n",
       "[:, :, 3] =\n",
       " 1.0       1.0       1.0       1.0       …  1.0       1.0       1.0     \n",
       " 0.901961  0.901961  0.901961  0.901961     0.901961  0.901961  0.901961\n",
       " 0.901961  0.901961  0.901961  0.901961     0.901961  0.901961  0.901961\n",
       "\n",
       "...\n",
       "\n",
       "[:, :, 94] =\n",
       " 1.0       1.0       1.0       1.0       …  1.0       1.0       1.0     \n",
       " 0.901961  0.901961  0.901961  0.901961     0.901961  0.901961  0.901961\n",
       " 0.901961  0.901961  0.901961  0.901961     0.901961  0.901961  0.901961\n",
       "\n",
       "[:, :, 95] =\n",
       " 1.0       1.0       1.0       1.0       …  1.0       1.0       1.0     \n",
       " 0.901961  0.901961  0.901961  0.901961     0.901961  0.901961  0.901961\n",
       " 0.901961  0.901961  0.901961  0.901961     0.901961  0.901961  0.901961\n",
       "\n",
       "[:, :, 96] =\n",
       " 1.0       1.0       1.0       1.0       …  1.0       1.0       1.0     \n",
       " 0.901961  0.901961  0.901961  0.901961     0.901961  0.901961  0.901961\n",
       " 0.901961  0.901961  0.901961  0.901961     0.901961  0.901961  0.901961"
      ]
     },
     "execution_count": 22,
     "metadata": {},
     "output_type": "execute_result"
    }
   ],
   "source": [
    "# PermutedDimsArray(view(::CuArray{Float32,4}  works, but runs into some error in gradient calc. \n",
    "\n",
    "cu_img = cu(six[1])\n",
    "\n",
    "@cast transposed[c, w,h] := cu_img[c, h,w]"
   ]
  },
  {
   "cell_type": "markdown",
   "metadata": {},
   "source": [
    "## Help"
   ]
  },
  {
   "cell_type": "code",
   "execution_count": 23,
   "metadata": {},
   "outputs": [
    {
     "data": {
      "text/latex": [
       "\\begin{verbatim}\n",
       "@cast Z[i,j,...] := f(A[j,k,...])  options\n",
       "\\end{verbatim}\n",
       "Macro for broadcasting, reshaping, and slicing of arrays in index notation. Understands the following things: \n",
       "\n",
       "\\begin{itemize}\n",
       "\\item \\texttt{A[i,j,k]} is a three-tensor with these indices.\n",
       "\n",
       "\n",
       "\\item \\texttt{B[(i,j),k]} is the same thing, reshaped to a matrix. Its first axis (the bracket) is indexed  by \\texttt{n = i + (j-1) * N} where \\texttt{i ∈ 1:N}. This may also be written \\texttt{B[i{\\textbackslash}j,k]}.\n",
       "\n",
       "\n",
       "\\item \\texttt{C[k][i,j]} is a vector of matrices.\n",
       "\n",
       "\n",
       "\\item \\texttt{D[j,k]\\{i\\}} is an ordinary matrix of \\texttt{SVector}s, which may be reinterpreted from \\texttt{A[i,j,k]}.\n",
       "\n",
       "\n",
       "\\item \\texttt{E[i,\\_,k]} has two nontrivial dimensions, and \\texttt{size(E,2)==1}. On the right hand side  (or when writing to an existing array) you may also write \\texttt{E[i,3,k]} meaning \\texttt{view(E, :,3,:)}, or \\texttt{E[i,\\$c,j]} to use a variable \\texttt{c}. Fixing inner indices, like \\texttt{C[k][i,\\_]}, is not allowed.\n",
       "\n",
       "\n",
       "\\item \\texttt{F[i,-j,k]} means \\texttt{reverse(F, dims=2)}. \n",
       "\n",
       "\\end{itemize}\n",
       "The left and right hand sides must have all the same indices.  See \\texttt{@reduce} for a related macro which can sum over things. \n",
       "\n",
       "If several tensors appear on the right hand side, then this represents a broadcasting operation,  and the necessary re-orientations of axes are automatically inserted. \n",
       "\n",
       "The following actions are possible:\n",
       "\n",
       "\\begin{itemize}\n",
       "\\item \\texttt{=} writes into an existing array.\n",
       "\n",
       "\n",
       "\\item \\texttt{:=} creates a new object... which may or may not be a view of the input:\n",
       "\n",
       "\n",
       "\\item \\texttt{==} insists on a view of the old object (error if impossible), and \\texttt{|=} insists on a copy. \n",
       "\n",
       "\\end{itemize}\n",
       "Options can be specified at the end (if several, separated by \\texttt{,} i.e. \\texttt{options::Tuple})\n",
       "\n",
       "\\begin{itemize}\n",
       "\\item \\texttt{i:3} supplies the range of index \\texttt{i}. Variables \\texttt{j:rangej} and functions \\texttt{k:length(K)} are allowed. \n",
       "\n",
       "\n",
       "\\item \\texttt{assert} or \\texttt{!} will turn on explicit dimension checks.\n",
       "\n",
       "\n",
       "\\item \\texttt{cat} will glue slices by things like \\texttt{hcat(A...)} instead of \\texttt{reduce(hcat, A)}, and \\texttt{lazy} will instead make a \\texttt{VectorOfArrays} container. \n",
       "\n",
       "\n",
       "\\item \\texttt{strided} will place \\texttt{@strided} in front of broadcasting operations,  and use \\texttt{@strided permutedims(A, ...)} instead of \\texttt{PermutedDimsArray(A, ...)}. \n",
       "\n",
       "\\end{itemize}\n",
       "Static slices \\texttt{D[j,k]\\{i\\}} need \\texttt{using StaticArrays}, and to create them you should give all  slice dimensions explicitly. You may write \\texttt{D[k]\\{i:2,j:2\\}} to specify \\texttt{Size(2,2)} slices.\n",
       "\n"
      ],
      "text/markdown": [
       "```\n",
       "@cast Z[i,j,...] := f(A[j,k,...])  options\n",
       "```\n",
       "\n",
       "Macro for broadcasting, reshaping, and slicing of arrays in index notation. Understands the following things: \n",
       "\n",
       "  * `A[i,j,k]` is a three-tensor with these indices.\n",
       "  * `B[(i,j),k]` is the same thing, reshaped to a matrix. Its first axis (the bracket) is indexed  by `n = i + (j-1) * N` where `i ∈ 1:N`. This may also be written `B[i\\j,k]`.\n",
       "  * `C[k][i,j]` is a vector of matrices.\n",
       "  * `D[j,k]{i}` is an ordinary matrix of `SVector`s, which may be reinterpreted from `A[i,j,k]`.\n",
       "  * `E[i,_,k]` has two nontrivial dimensions, and `size(E,2)==1`. On the right hand side  (or when writing to an existing array) you may also write `E[i,3,k]` meaning `view(E, :,3,:)`, or `E[i,$c,j]` to use a variable `c`. Fixing inner indices, like `C[k][i,_]`, is not allowed.\n",
       "  * `F[i,-j,k]` means `reverse(F, dims=2)`.\n",
       "\n",
       "The left and right hand sides must have all the same indices.  See `@reduce` for a related macro which can sum over things. \n",
       "\n",
       "If several tensors appear on the right hand side, then this represents a broadcasting operation,  and the necessary re-orientations of axes are automatically inserted. \n",
       "\n",
       "The following actions are possible:\n",
       "\n",
       "  * `=` writes into an existing array.\n",
       "  * `:=` creates a new object... which may or may not be a view of the input:\n",
       "  * `==` insists on a view of the old object (error if impossible), and `|=` insists on a copy.\n",
       "\n",
       "Options can be specified at the end (if several, separated by `,` i.e. `options::Tuple`)\n",
       "\n",
       "  * `i:3` supplies the range of index `i`. Variables `j:rangej` and functions `k:length(K)` are allowed.\n",
       "  * `assert` or `!` will turn on explicit dimension checks.\n",
       "  * `cat` will glue slices by things like `hcat(A...)` instead of `reduce(hcat, A)`, and `lazy` will instead make a `VectorOfArrays` container.\n",
       "  * `strided` will place `@strided` in front of broadcasting operations,  and use `@strided permutedims(A, ...)` instead of `PermutedDimsArray(A, ...)`.\n",
       "\n",
       "Static slices `D[j,k]{i}` need `using StaticArrays`, and to create them you should give all  slice dimensions explicitly. You may write `D[k]{i:2,j:2}` to specify `Size(2,2)` slices.\n"
      ],
      "text/plain": [
       "\u001b[36m  @cast Z[i,j,...] := f(A[j,k,...])  options\u001b[39m\n",
       "\n",
       "  Macro for broadcasting, reshaping, and slicing of arrays in index notation.\n",
       "  Understands the following things: \n",
       "\n",
       "    •    \u001b[36mA[i,j,k]\u001b[39m is a three-tensor with these indices.\n",
       "\n",
       "    •    \u001b[36mB[(i,j),k]\u001b[39m is the same thing, reshaped to a matrix. Its first axis\n",
       "        (the bracket) is indexed by \u001b[36mn = i + (j-1) * N\u001b[39m where \u001b[36mi ∈ 1:N\u001b[39m. This\n",
       "        may also be written \u001b[36mB[i\\j,k]\u001b[39m.\n",
       "\n",
       "    •    \u001b[36mC[k][i,j]\u001b[39m is a vector of matrices.\n",
       "\n",
       "    •    \u001b[36mD[j,k]{i}\u001b[39m is an ordinary matrix of \u001b[36mSVector\u001b[39ms, which may be\n",
       "        reinterpreted from \u001b[36mA[i,j,k]\u001b[39m.\n",
       "\n",
       "    •    \u001b[36mE[i,_,k]\u001b[39m has two nontrivial dimensions, and \u001b[36msize(E,2)==1\u001b[39m. On the\n",
       "        right hand side (or when writing to an existing array) you may\n",
       "        also write \u001b[36mE[i,3,k]\u001b[39m meaning \u001b[36mview(E, :,3,:)\u001b[39m, or \u001b[36mE[i,$c,j]\u001b[39m to use a\n",
       "        variable \u001b[36mc\u001b[39m. Fixing inner indices, like \u001b[36mC[k][i,_]\u001b[39m, is not allowed.\n",
       "\n",
       "    •    \u001b[36mF[i,-j,k]\u001b[39m means \u001b[36mreverse(F, dims=2)\u001b[39m. \n",
       "\n",
       "  The left and right hand sides must have all the same indices. See \u001b[36m@reduce\u001b[39m\n",
       "  for a related macro which can sum over things. \n",
       "\n",
       "  If several tensors appear on the right hand side, then this represents a\n",
       "  broadcasting operation, and the necessary re-orientations of axes are\n",
       "  automatically inserted. \n",
       "\n",
       "  The following actions are possible:\n",
       "\n",
       "    •    \u001b[36m=\u001b[39m writes into an existing array.\n",
       "\n",
       "    •    \u001b[36m:=\u001b[39m creates a new object... which may or may not be a view of the\n",
       "        input:\n",
       "\n",
       "    •    \u001b[36m==\u001b[39m insists on a view of the old object (error if impossible), and\n",
       "        \u001b[36m|=\u001b[39m insists on a copy. \n",
       "\n",
       "  Options can be specified at the end (if several, separated by \u001b[36m,\u001b[39m i.e.\n",
       "  \u001b[36moptions::Tuple\u001b[39m)\n",
       "\n",
       "    •    \u001b[36mi:3\u001b[39m supplies the range of index \u001b[36mi\u001b[39m. Variables \u001b[36mj:rangej\u001b[39m and\n",
       "        functions \u001b[36mk:length(K)\u001b[39m are allowed. \n",
       "\n",
       "    •    \u001b[36massert\u001b[39m or \u001b[36m!\u001b[39m will turn on explicit dimension checks.\n",
       "\n",
       "    •    \u001b[36mcat\u001b[39m will glue slices by things like \u001b[36mhcat(A...)\u001b[39m instead of\n",
       "        \u001b[36mreduce(hcat, A)\u001b[39m, and \u001b[36mlazy\u001b[39m will instead make a \u001b[36mVectorOfArrays\u001b[39m\n",
       "        container. \n",
       "\n",
       "    •    \u001b[36mstrided\u001b[39m will place \u001b[36m@strided\u001b[39m in front of broadcasting operations,\n",
       "        and use \u001b[36m@strided permutedims(A, ...)\u001b[39m instead of\n",
       "        \u001b[36mPermutedDimsArray(A, ...)\u001b[39m. \n",
       "\n",
       "  Static slices \u001b[36mD[j,k]{i}\u001b[39m need \u001b[36musing StaticArrays\u001b[39m, and to create them you\n",
       "  should give all slice dimensions explicitly. You may write \u001b[36mD[k]{i:2,j:2}\u001b[39m to\n",
       "  specify \u001b[36mSize(2,2)\u001b[39m slices."
      ]
     },
     "execution_count": 23,
     "metadata": {},
     "output_type": "execute_result"
    }
   ],
   "source": [
    "?@cast"
   ]
  },
  {
   "cell_type": "code",
   "execution_count": 24,
   "metadata": {},
   "outputs": [
    {
     "data": {
      "text/latex": [
       "\\begin{verbatim}\n",
       "@reduce A[i] := sum(j,k) B[i,j,k]             # A = vec(sum(B, dims=(2,3))) \n",
       "@reduce A[i] := prod(j) B[i] + ε * C[i,j]     # A = vec(prod(B .+ ε .* C, dims=2))\n",
       "@reduce A[i] = sum(j) exp( C[i,j] / D[j] )    # sum!(A, exp.(C ./ D') )\n",
       "\\end{verbatim}\n",
       "Tensor reduction macro:\n",
       "\n",
       "\\begin{itemize}\n",
       "\\item The reduction function can be anything which works like \\texttt{sum(B, dims=(1,3))},  for instance \\texttt{prod} and \\texttt{maximum} and \\texttt{Statistics.mean}. \n",
       "\n",
       "\n",
       "\\item In-place operations \\texttt{Z[j] = sum(...} will construct the banged version of the given function's name,  which must work like \\texttt{sum!(Z, A)}.\n",
       "\n",
       "\n",
       "\\item The tensors can be anything that \\texttt{@cast} understands, including gluing of slices \\texttt{B[i,k][j]}  and reshaping \\texttt{B[i{\\textbackslash}j,k]}. \n",
       "\n",
       "\n",
       "\\item Index ranges may be given afterwards (as for \\texttt{@cast}) or inside the reduction \\texttt{sum(i:3, k:4)}. \n",
       "\n",
       "\n",
       "\\item All indices appearing on the right must appear either within \\texttt{sum(...)} etc, or on the left. \n",
       "\n",
       "\\end{itemize}\n",
       "\\begin{verbatim}\n",
       "F = @reduce sum(i,j)  B[i] + γ * D[j]         # sum(B .+ γ .* D')\n",
       "@reduce G[] := sum(i,j)  B[i] + γ * D[j]      # F == G[]\n",
       "\\end{verbatim}\n",
       "Complete reduction to a scalar output \\texttt{F}, or a zero-dim array \\texttt{G}. \n",
       "\n",
       "\\begin{verbatim}\n",
       "@reduce Z[k] := sum(i,j) A[i] * B[j] * C[k]  lazy, i:N, j:N, k:N\n",
       "\\end{verbatim}\n",
       "The option \\texttt{lazy} replaces the broadcast expression with a \\texttt{BroadcastArray},  to avoid \\texttt{materialize}ing the entire array (here size \\texttt{N\\^{}3}) before summing. \n",
       "\n",
       "The option \\texttt{strided} will place \\texttt{@strided} in front of the broadcasting operation.  You need \\texttt{using Strided} for this to work. \n",
       "\n"
      ],
      "text/markdown": [
       "```\n",
       "@reduce A[i] := sum(j,k) B[i,j,k]             # A = vec(sum(B, dims=(2,3))) \n",
       "@reduce A[i] := prod(j) B[i] + ε * C[i,j]     # A = vec(prod(B .+ ε .* C, dims=2))\n",
       "@reduce A[i] = sum(j) exp( C[i,j] / D[j] )    # sum!(A, exp.(C ./ D') )\n",
       "```\n",
       "\n",
       "Tensor reduction macro:\n",
       "\n",
       "  * The reduction function can be anything which works like `sum(B, dims=(1,3))`,  for instance `prod` and `maximum` and `Statistics.mean`.\n",
       "  * In-place operations `Z[j] = sum(...` will construct the banged version of the given function's name,  which must work like `sum!(Z, A)`.\n",
       "  * The tensors can be anything that `@cast` understands, including gluing of slices `B[i,k][j]`  and reshaping `B[i\\j,k]`.\n",
       "  * Index ranges may be given afterwards (as for `@cast`) or inside the reduction `sum(i:3, k:4)`.\n",
       "  * All indices appearing on the right must appear either within `sum(...)` etc, or on the left.\n",
       "\n",
       "```\n",
       "F = @reduce sum(i,j)  B[i] + γ * D[j]         # sum(B .+ γ .* D')\n",
       "@reduce G[] := sum(i,j)  B[i] + γ * D[j]      # F == G[]\n",
       "```\n",
       "\n",
       "Complete reduction to a scalar output `F`, or a zero-dim array `G`. \n",
       "\n",
       "```\n",
       "@reduce Z[k] := sum(i,j) A[i] * B[j] * C[k]  lazy, i:N, j:N, k:N\n",
       "```\n",
       "\n",
       "The option `lazy` replaces the broadcast expression with a `BroadcastArray`,  to avoid `materialize`ing the entire array (here size `N^3`) before summing. \n",
       "\n",
       "The option `strided` will place `@strided` in front of the broadcasting operation.  You need `using Strided` for this to work. \n"
      ],
      "text/plain": [
       "\u001b[36m  @reduce A[i] := sum(j,k) B[i,j,k]             # A = vec(sum(B, dims=(2,3))) \u001b[39m\n",
       "\u001b[36m  @reduce A[i] := prod(j) B[i] + ε * C[i,j]     # A = vec(prod(B .+ ε .* C, dims=2))\u001b[39m\n",
       "\u001b[36m  @reduce A[i] = sum(j) exp( C[i,j] / D[j] )    # sum!(A, exp.(C ./ D') )\u001b[39m\n",
       "\n",
       "  Tensor reduction macro:\n",
       "\n",
       "    •    The reduction function can be anything which works like \u001b[36msum(B,\n",
       "        dims=(1,3))\u001b[39m, for instance \u001b[36mprod\u001b[39m and \u001b[36mmaximum\u001b[39m and \u001b[36mStatistics.mean\u001b[39m. \n",
       "\n",
       "    •    In-place operations \u001b[36mZ[j] = sum(...\u001b[39m will construct the banged\n",
       "        version of the given function's name, which must work like \u001b[36msum!(Z,\n",
       "        A)\u001b[39m.\n",
       "\n",
       "    •    The tensors can be anything that \u001b[36m@cast\u001b[39m understands, including\n",
       "        gluing of slices \u001b[36mB[i,k][j]\u001b[39m and reshaping \u001b[36mB[i\\j,k]\u001b[39m. \n",
       "\n",
       "    •    Index ranges may be given afterwards (as for \u001b[36m@cast\u001b[39m) or inside the\n",
       "        reduction \u001b[36msum(i:3, k:4)\u001b[39m. \n",
       "\n",
       "    •    All indices appearing on the right must appear either within\n",
       "        \u001b[36msum(...)\u001b[39m etc, or on the left. \n",
       "\n",
       "\u001b[36m  F = @reduce sum(i,j)  B[i] + γ * D[j]         # sum(B .+ γ .* D')\u001b[39m\n",
       "\u001b[36m  @reduce G[] := sum(i,j)  B[i] + γ * D[j]      # F == G[]\u001b[39m\n",
       "\n",
       "  Complete reduction to a scalar output \u001b[36mF\u001b[39m, or a zero-dim array \u001b[36mG\u001b[39m. \n",
       "\n",
       "\u001b[36m  @reduce Z[k] := sum(i,j) A[i] * B[j] * C[k]  lazy, i:N, j:N, k:N\u001b[39m\n",
       "\n",
       "  The option \u001b[36mlazy\u001b[39m replaces the broadcast expression with a \u001b[36mBroadcastArray\u001b[39m, to\n",
       "  avoid \u001b[36mmaterialize\u001b[39ming the entire array (here size \u001b[36mN^3\u001b[39m) before summing. \n",
       "\n",
       "  The option \u001b[36mstrided\u001b[39m will place \u001b[36m@strided\u001b[39m in front of the broadcasting\n",
       "  operation. You need \u001b[36musing Strided\u001b[39m for this to work. "
      ]
     },
     "execution_count": 24,
     "metadata": {},
     "output_type": "execute_result"
    }
   ],
   "source": [
    "?@reduce"
   ]
  },
  {
   "cell_type": "code",
   "execution_count": 25,
   "metadata": {},
   "outputs": [
    {
     "data": {
      "text/latex": [
       "\\begin{verbatim}\n",
       "@check!(A[i, j, μ, ν])\n",
       "\\end{verbatim}\n",
       "Adds \\texttt{A} to the store of known tensors, and records that it expects indices \\texttt{i,j,μ,ν}. If it is already in the store, then instead this checks whether the present indices differ  from the saved ones. Only the first letter is examined: \\texttt{α} and \\texttt{α2} are similar, as are nearby  letters \\texttt{β}, \\texttt{γ3}. More complicated indices like \\texttt{Z[(i,j), -k, \\_, 3]} will be ignored.  This happens while parsing your source code, there is zero run-time penalty. Returns \\texttt{A}.\n",
       "\n",
       "In addition, with \\texttt{size=true} option, it can insert size checks to be performed at run-time, by returning \\texttt{check!(A, stuff)}.  At the first occurrance this saves \\texttt{i: => size(A,1)} etc., and on subsequent uses of  the same index (even on different tensors) it gives an error if the sizes do not match.  Here the whole index is used: \\texttt{α}, \\texttt{β} and \\texttt{β2} may have different ranges.  This will need to look up indices in a dictionary, which takes ... 50ns, really? \n",
       "\n",
       "\\begin{verbatim}\n",
       "@check! B[i,j] C[μ,ν] D[i] E[j]\n",
       "\\end{verbatim}\n",
       "Checks several tensors, returns nothing. \n",
       "\n",
       "\\begin{verbatim}\n",
       "@check!  alpha=true  tol=3  size=false  throw=false  info  empty\n",
       "\\end{verbatim}\n",
       "Controls options for \\texttt{@check!} and related macros (\\texttt{@shape!}, \\texttt{@reduce!}, \\texttt{@einsum!} etc).  These are the default settings:\n",
       "\n",
       "\\begin{itemize}\n",
       "\\item \\texttt{alpha=true} turns on the parse-time checking, based on index letters.\n",
       "\n",
       "\n",
       "\\item \\texttt{tol=3} sets how close together letters must be: \\texttt{B[j,k]} is not an error but \\texttt{B[a,b]} will be. \n",
       "\n",
       "\n",
       "\\item \\texttt{size=false} turns off run-time size checking.\n",
       "\n",
       "\n",
       "\\item \\texttt{throw=false} means that errors are given using \\texttt{@error}, without interrupting your program.\n",
       "\n",
       "\n",
       "\\item \\texttt{empty} deletes all saved letters and sizes – there is one global store for each, for now.\n",
       "\n",
       "\n",
       "\\item \\texttt{info} prints what's currently saved.\n",
       "\n",
       "\\end{itemize}\n",
       "\\begin{verbatim}\n",
       "@cast! B[i,j] := D[i] * E[j]\n",
       "@reduce! B[i,j] := sum(μ,ν) A[i,j,μ,ν] / C[μ,ν]\n",
       "\n",
       "@einsum!  B[i,j] := D[i] * E[j]\n",
       "@vielsum! B[i,j] := D[i] * E[j]\n",
       "@tensor!  B[i,j] := D[i] * E[j]\n",
       "\\end{verbatim}\n",
       "Versions of the macros from this package, and from Einsum.jl and TensorOperations.jl,  which call \\texttt{@check!} on each of their tensors, before proceeding as normal. \n",
       "\n"
      ],
      "text/markdown": [
       "```\n",
       "@check!(A[i, j, μ, ν])\n",
       "```\n",
       "\n",
       "Adds `A` to the store of known tensors, and records that it expects indices `i,j,μ,ν`. If it is already in the store, then instead this checks whether the present indices differ  from the saved ones. Only the first letter is examined: `α` and `α2` are similar, as are nearby  letters `β`, `γ3`. More complicated indices like `Z[(i,j), -k, _, 3]` will be ignored.  This happens while parsing your source code, there is zero run-time penalty. Returns `A`.\n",
       "\n",
       "In addition, with `size=true` option, it can insert size checks to be performed at run-time, by returning `check!(A, stuff)`.  At the first occurrance this saves `i: => size(A,1)` etc., and on subsequent uses of  the same index (even on different tensors) it gives an error if the sizes do not match.  Here the whole index is used: `α`, `β` and `β2` may have different ranges.  This will need to look up indices in a dictionary, which takes ... 50ns, really? \n",
       "\n",
       "```\n",
       "@check! B[i,j] C[μ,ν] D[i] E[j]\n",
       "```\n",
       "\n",
       "Checks several tensors, returns nothing. \n",
       "\n",
       "```\n",
       "@check!  alpha=true  tol=3  size=false  throw=false  info  empty\n",
       "```\n",
       "\n",
       "Controls options for `@check!` and related macros (`@shape!`, `@reduce!`, `@einsum!` etc).  These are the default settings:\n",
       "\n",
       "  * `alpha=true` turns on the parse-time checking, based on index letters.\n",
       "  * `tol=3` sets how close together letters must be: `B[j,k]` is not an error but `B[a,b]` will be.\n",
       "  * `size=false` turns off run-time size checking.\n",
       "  * `throw=false` means that errors are given using `@error`, without interrupting your program.\n",
       "  * `empty` deletes all saved letters and sizes – there is one global store for each, for now.\n",
       "  * `info` prints what's currently saved.\n",
       "\n",
       "```\n",
       "@cast! B[i,j] := D[i] * E[j]\n",
       "@reduce! B[i,j] := sum(μ,ν) A[i,j,μ,ν] / C[μ,ν]\n",
       "\n",
       "@einsum!  B[i,j] := D[i] * E[j]\n",
       "@vielsum! B[i,j] := D[i] * E[j]\n",
       "@tensor!  B[i,j] := D[i] * E[j]\n",
       "```\n",
       "\n",
       "Versions of the macros from this package, and from Einsum.jl and TensorOperations.jl,  which call `@check!` on each of their tensors, before proceeding as normal. \n"
      ],
      "text/plain": [
       "\u001b[36m  @check!(A[i, j, μ, ν])\u001b[39m\n",
       "\n",
       "  Adds \u001b[36mA\u001b[39m to the store of known tensors, and records that it expects indices\n",
       "  \u001b[36mi,j,μ,ν\u001b[39m. If it is already in the store, then instead this checks whether the\n",
       "  present indices differ from the saved ones. Only the first letter is\n",
       "  examined: \u001b[36mα\u001b[39m and \u001b[36mα2\u001b[39m are similar, as are nearby letters \u001b[36mβ\u001b[39m, \u001b[36mγ3\u001b[39m. More\n",
       "  complicated indices like \u001b[36mZ[(i,j), -k, _, 3]\u001b[39m will be ignored. This happens\n",
       "  while parsing your source code, there is zero run-time penalty. Returns \u001b[36mA\u001b[39m.\n",
       "\n",
       "  In addition, with \u001b[36msize=true\u001b[39m option, it can insert size checks to be\n",
       "  performed at run-time, by returning \u001b[36mcheck!(A, stuff)\u001b[39m. At the first\n",
       "  occurrance this saves \u001b[36mi: => size(A,1)\u001b[39m etc., and on subsequent uses of the\n",
       "  same index (even on different tensors) it gives an error if the sizes do not\n",
       "  match. Here the whole index is used: \u001b[36mα\u001b[39m, \u001b[36mβ\u001b[39m and \u001b[36mβ2\u001b[39m may have different ranges.\n",
       "  This will need to look up indices in a dictionary, which takes ... 50ns,\n",
       "  really? \n",
       "\n",
       "\u001b[36m  @check! B[i,j] C[μ,ν] D[i] E[j]\u001b[39m\n",
       "\n",
       "  Checks several tensors, returns nothing. \n",
       "\n",
       "\u001b[36m  @check!  alpha=true  tol=3  size=false  throw=false  info  empty\u001b[39m\n",
       "\n",
       "  Controls options for \u001b[36m@check!\u001b[39m and related macros (\u001b[36m@shape!\u001b[39m, \u001b[36m@reduce!\u001b[39m, \u001b[36m@einsum!\u001b[39m\n",
       "  etc). These are the default settings:\n",
       "\n",
       "    •    \u001b[36malpha=true\u001b[39m turns on the parse-time checking, based on index\n",
       "        letters.\n",
       "\n",
       "    •    \u001b[36mtol=3\u001b[39m sets how close together letters must be: \u001b[36mB[j,k]\u001b[39m is not an\n",
       "        error but \u001b[36mB[a,b]\u001b[39m will be. \n",
       "\n",
       "    •    \u001b[36msize=false\u001b[39m turns off run-time size checking.\n",
       "\n",
       "    •    \u001b[36mthrow=false\u001b[39m means that errors are given using \u001b[36m@error\u001b[39m, without\n",
       "        interrupting your program.\n",
       "\n",
       "    •    \u001b[36mempty\u001b[39m deletes all saved letters and sizes – there is one global\n",
       "        store for each, for now.\n",
       "\n",
       "    •    \u001b[36minfo\u001b[39m prints what's currently saved.\n",
       "\n",
       "\u001b[36m  @cast! B[i,j] := D[i] * E[j]\u001b[39m\n",
       "\u001b[36m  @reduce! B[i,j] := sum(μ,ν) A[i,j,μ,ν] / C[μ,ν]\u001b[39m\n",
       "\u001b[36m  \u001b[39m\n",
       "\u001b[36m  @einsum!  B[i,j] := D[i] * E[j]\u001b[39m\n",
       "\u001b[36m  @vielsum! B[i,j] := D[i] * E[j]\u001b[39m\n",
       "\u001b[36m  @tensor!  B[i,j] := D[i] * E[j]\u001b[39m\n",
       "\n",
       "  Versions of the macros from this package, and from Einsum.jl and\n",
       "  TensorOperations.jl, which call \u001b[36m@check!\u001b[39m on each of their tensors, before\n",
       "  proceeding as normal. "
      ]
     },
     "execution_count": 25,
     "metadata": {},
     "output_type": "execute_result"
    }
   ],
   "source": [
    "?@check!"
   ]
  },
  {
   "cell_type": "code",
   "execution_count": null,
   "metadata": {},
   "outputs": [],
   "source": []
  }
 ],
 "metadata": {
  "kernelspec": {
   "display_name": "Julia 1.1.0",
   "language": "julia",
   "name": "julia-1.1"
  },
  "language_info": {
   "file_extension": ".jl",
   "mimetype": "application/julia",
   "name": "julia",
   "version": "1.1.0"
  }
 },
 "nbformat": 4,
 "nbformat_minor": 2
}
